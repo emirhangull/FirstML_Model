{
 "cells": [
  {
   "cell_type": "code",
   "execution_count": 1,
   "id": "7d2a0ddc",
   "metadata": {
    "_cell_guid": "b1076dfc-b9ad-4769-8c92-a6c4dae69d19",
    "_uuid": "8f2839f25d086af736a60e9eeb907d3b93b6e0e5",
    "execution": {
     "iopub.execute_input": "2025-06-25T12:08:25.074898Z",
     "iopub.status.busy": "2025-06-25T12:08:25.074497Z",
     "iopub.status.idle": "2025-06-25T12:08:27.293567Z",
     "shell.execute_reply": "2025-06-25T12:08:27.292540Z"
    },
    "papermill": {
     "duration": 2.234391,
     "end_time": "2025-06-25T12:08:27.295364",
     "exception": false,
     "start_time": "2025-06-25T12:08:25.060973",
     "status": "completed"
    },
    "tags": []
   },
   "outputs": [
    {
     "name": "stdout",
     "output_type": "stream",
     "text": [
      "/kaggle/input/titanic/train.csv\n",
      "/kaggle/input/titanic/test.csv\n",
      "/kaggle/input/titanic/gender_submission.csv\n"
     ]
    }
   ],
   "source": [
    "# This Python 3 environment comes with many helpful analytics libraries installed\n",
    "# It is defined by the kaggle/python Docker image: https://github.com/kaggle/docker-python\n",
    "# For example, here's several helpful packages to load\n",
    "\n",
    "import numpy as np # linear algebra\n",
    "import pandas as pd # data processing, CSV file I/O (e.g. pd.read_csv)\n",
    "\n",
    "# Input data files are available in the read-only \"../input/\" directory\n",
    "# For example, running this (by clicking run or pressing Shift+Enter) will list all files under the input directory\n",
    "import warnings\n",
    "warnings.filterwarnings('ignore')\n",
    "import os\n",
    "for dirname, _, filenames in os.walk('/kaggle/input'):\n",
    "    for filename in filenames:\n",
    "        print(os.path.join(dirname, filename))\n",
    "\n",
    "# You can write up to 20GB to the current directory (/kaggle/working/) that gets preserved as output when you create a version using \"Save & Run All\" \n",
    "# You can also write temporary files to /kaggle/temp/, but they won't be saved outside of the current session"
   ]
  },
  {
   "cell_type": "code",
   "execution_count": 2,
   "id": "bb1dd616",
   "metadata": {
    "execution": {
     "iopub.execute_input": "2025-06-25T12:08:27.319421Z",
     "iopub.status.busy": "2025-06-25T12:08:27.318977Z",
     "iopub.status.idle": "2025-06-25T12:08:27.352795Z",
     "shell.execute_reply": "2025-06-25T12:08:27.351853Z"
    },
    "papermill": {
     "duration": 0.047598,
     "end_time": "2025-06-25T12:08:27.354543",
     "exception": false,
     "start_time": "2025-06-25T12:08:27.306945",
     "status": "completed"
    },
    "tags": []
   },
   "outputs": [],
   "source": [
    "train_data  = pd.read_csv(\"/kaggle/input/titanic/train.csv\")\n",
    "test_data  = pd.read_csv(\"/kaggle/input/titanic/test.csv\")"
   ]
  },
  {
   "cell_type": "code",
   "execution_count": 3,
   "id": "c19b9bbc",
   "metadata": {
    "execution": {
     "iopub.execute_input": "2025-06-25T12:08:27.381173Z",
     "iopub.status.busy": "2025-06-25T12:08:27.380838Z",
     "iopub.status.idle": "2025-06-25T12:08:27.419336Z",
     "shell.execute_reply": "2025-06-25T12:08:27.416782Z"
    },
    "papermill": {
     "duration": 0.054682,
     "end_time": "2025-06-25T12:08:27.421908",
     "exception": false,
     "start_time": "2025-06-25T12:08:27.367226",
     "status": "completed"
    },
    "tags": []
   },
   "outputs": [
    {
     "data": {
      "text/html": [
       "<div>\n",
       "<style scoped>\n",
       "    .dataframe tbody tr th:only-of-type {\n",
       "        vertical-align: middle;\n",
       "    }\n",
       "\n",
       "    .dataframe tbody tr th {\n",
       "        vertical-align: top;\n",
       "    }\n",
       "\n",
       "    .dataframe thead th {\n",
       "        text-align: right;\n",
       "    }\n",
       "</style>\n",
       "<table border=\"1\" class=\"dataframe\">\n",
       "  <thead>\n",
       "    <tr style=\"text-align: right;\">\n",
       "      <th></th>\n",
       "      <th>PassengerId</th>\n",
       "      <th>Survived</th>\n",
       "      <th>Pclass</th>\n",
       "      <th>Name</th>\n",
       "      <th>Sex</th>\n",
       "      <th>Age</th>\n",
       "      <th>SibSp</th>\n",
       "      <th>Parch</th>\n",
       "      <th>Ticket</th>\n",
       "      <th>Fare</th>\n",
       "      <th>Cabin</th>\n",
       "      <th>Embarked</th>\n",
       "    </tr>\n",
       "  </thead>\n",
       "  <tbody>\n",
       "    <tr>\n",
       "      <th>0</th>\n",
       "      <td>1</td>\n",
       "      <td>0</td>\n",
       "      <td>3</td>\n",
       "      <td>Braund, Mr. Owen Harris</td>\n",
       "      <td>male</td>\n",
       "      <td>22.0</td>\n",
       "      <td>1</td>\n",
       "      <td>0</td>\n",
       "      <td>A/5 21171</td>\n",
       "      <td>7.2500</td>\n",
       "      <td>NaN</td>\n",
       "      <td>S</td>\n",
       "    </tr>\n",
       "    <tr>\n",
       "      <th>1</th>\n",
       "      <td>2</td>\n",
       "      <td>1</td>\n",
       "      <td>1</td>\n",
       "      <td>Cumings, Mrs. John Bradley (Florence Briggs Th...</td>\n",
       "      <td>female</td>\n",
       "      <td>38.0</td>\n",
       "      <td>1</td>\n",
       "      <td>0</td>\n",
       "      <td>PC 17599</td>\n",
       "      <td>71.2833</td>\n",
       "      <td>C85</td>\n",
       "      <td>C</td>\n",
       "    </tr>\n",
       "    <tr>\n",
       "      <th>2</th>\n",
       "      <td>3</td>\n",
       "      <td>1</td>\n",
       "      <td>3</td>\n",
       "      <td>Heikkinen, Miss. Laina</td>\n",
       "      <td>female</td>\n",
       "      <td>26.0</td>\n",
       "      <td>0</td>\n",
       "      <td>0</td>\n",
       "      <td>STON/O2. 3101282</td>\n",
       "      <td>7.9250</td>\n",
       "      <td>NaN</td>\n",
       "      <td>S</td>\n",
       "    </tr>\n",
       "    <tr>\n",
       "      <th>3</th>\n",
       "      <td>4</td>\n",
       "      <td>1</td>\n",
       "      <td>1</td>\n",
       "      <td>Futrelle, Mrs. Jacques Heath (Lily May Peel)</td>\n",
       "      <td>female</td>\n",
       "      <td>35.0</td>\n",
       "      <td>1</td>\n",
       "      <td>0</td>\n",
       "      <td>113803</td>\n",
       "      <td>53.1000</td>\n",
       "      <td>C123</td>\n",
       "      <td>S</td>\n",
       "    </tr>\n",
       "    <tr>\n",
       "      <th>4</th>\n",
       "      <td>5</td>\n",
       "      <td>0</td>\n",
       "      <td>3</td>\n",
       "      <td>Allen, Mr. William Henry</td>\n",
       "      <td>male</td>\n",
       "      <td>35.0</td>\n",
       "      <td>0</td>\n",
       "      <td>0</td>\n",
       "      <td>373450</td>\n",
       "      <td>8.0500</td>\n",
       "      <td>NaN</td>\n",
       "      <td>S</td>\n",
       "    </tr>\n",
       "  </tbody>\n",
       "</table>\n",
       "</div>"
      ],
      "text/plain": [
       "   PassengerId  Survived  Pclass  \\\n",
       "0            1         0       3   \n",
       "1            2         1       1   \n",
       "2            3         1       3   \n",
       "3            4         1       1   \n",
       "4            5         0       3   \n",
       "\n",
       "                                                Name     Sex   Age  SibSp  \\\n",
       "0                            Braund, Mr. Owen Harris    male  22.0      1   \n",
       "1  Cumings, Mrs. John Bradley (Florence Briggs Th...  female  38.0      1   \n",
       "2                             Heikkinen, Miss. Laina  female  26.0      0   \n",
       "3       Futrelle, Mrs. Jacques Heath (Lily May Peel)  female  35.0      1   \n",
       "4                           Allen, Mr. William Henry    male  35.0      0   \n",
       "\n",
       "   Parch            Ticket     Fare Cabin Embarked  \n",
       "0      0         A/5 21171   7.2500   NaN        S  \n",
       "1      0          PC 17599  71.2833   C85        C  \n",
       "2      0  STON/O2. 3101282   7.9250   NaN        S  \n",
       "3      0            113803  53.1000  C123        S  \n",
       "4      0            373450   8.0500   NaN        S  "
      ]
     },
     "execution_count": 3,
     "metadata": {},
     "output_type": "execute_result"
    }
   ],
   "source": [
    "train_data.head()"
   ]
  },
  {
   "cell_type": "code",
   "execution_count": 4,
   "id": "09617bcd",
   "metadata": {
    "execution": {
     "iopub.execute_input": "2025-06-25T12:08:27.453296Z",
     "iopub.status.busy": "2025-06-25T12:08:27.452882Z",
     "iopub.status.idle": "2025-06-25T12:08:27.472857Z",
     "shell.execute_reply": "2025-06-25T12:08:27.471116Z"
    },
    "papermill": {
     "duration": 0.036242,
     "end_time": "2025-06-25T12:08:27.475233",
     "exception": false,
     "start_time": "2025-06-25T12:08:27.438991",
     "status": "completed"
    },
    "tags": []
   },
   "outputs": [
    {
     "data": {
      "text/html": [
       "<div>\n",
       "<style scoped>\n",
       "    .dataframe tbody tr th:only-of-type {\n",
       "        vertical-align: middle;\n",
       "    }\n",
       "\n",
       "    .dataframe tbody tr th {\n",
       "        vertical-align: top;\n",
       "    }\n",
       "\n",
       "    .dataframe thead th {\n",
       "        text-align: right;\n",
       "    }\n",
       "</style>\n",
       "<table border=\"1\" class=\"dataframe\">\n",
       "  <thead>\n",
       "    <tr style=\"text-align: right;\">\n",
       "      <th></th>\n",
       "      <th>PassengerId</th>\n",
       "      <th>Pclass</th>\n",
       "      <th>Name</th>\n",
       "      <th>Sex</th>\n",
       "      <th>Age</th>\n",
       "      <th>SibSp</th>\n",
       "      <th>Parch</th>\n",
       "      <th>Ticket</th>\n",
       "      <th>Fare</th>\n",
       "      <th>Cabin</th>\n",
       "      <th>Embarked</th>\n",
       "    </tr>\n",
       "  </thead>\n",
       "  <tbody>\n",
       "    <tr>\n",
       "      <th>0</th>\n",
       "      <td>892</td>\n",
       "      <td>3</td>\n",
       "      <td>Kelly, Mr. James</td>\n",
       "      <td>male</td>\n",
       "      <td>34.5</td>\n",
       "      <td>0</td>\n",
       "      <td>0</td>\n",
       "      <td>330911</td>\n",
       "      <td>7.8292</td>\n",
       "      <td>NaN</td>\n",
       "      <td>Q</td>\n",
       "    </tr>\n",
       "    <tr>\n",
       "      <th>1</th>\n",
       "      <td>893</td>\n",
       "      <td>3</td>\n",
       "      <td>Wilkes, Mrs. James (Ellen Needs)</td>\n",
       "      <td>female</td>\n",
       "      <td>47.0</td>\n",
       "      <td>1</td>\n",
       "      <td>0</td>\n",
       "      <td>363272</td>\n",
       "      <td>7.0000</td>\n",
       "      <td>NaN</td>\n",
       "      <td>S</td>\n",
       "    </tr>\n",
       "    <tr>\n",
       "      <th>2</th>\n",
       "      <td>894</td>\n",
       "      <td>2</td>\n",
       "      <td>Myles, Mr. Thomas Francis</td>\n",
       "      <td>male</td>\n",
       "      <td>62.0</td>\n",
       "      <td>0</td>\n",
       "      <td>0</td>\n",
       "      <td>240276</td>\n",
       "      <td>9.6875</td>\n",
       "      <td>NaN</td>\n",
       "      <td>Q</td>\n",
       "    </tr>\n",
       "    <tr>\n",
       "      <th>3</th>\n",
       "      <td>895</td>\n",
       "      <td>3</td>\n",
       "      <td>Wirz, Mr. Albert</td>\n",
       "      <td>male</td>\n",
       "      <td>27.0</td>\n",
       "      <td>0</td>\n",
       "      <td>0</td>\n",
       "      <td>315154</td>\n",
       "      <td>8.6625</td>\n",
       "      <td>NaN</td>\n",
       "      <td>S</td>\n",
       "    </tr>\n",
       "    <tr>\n",
       "      <th>4</th>\n",
       "      <td>896</td>\n",
       "      <td>3</td>\n",
       "      <td>Hirvonen, Mrs. Alexander (Helga E Lindqvist)</td>\n",
       "      <td>female</td>\n",
       "      <td>22.0</td>\n",
       "      <td>1</td>\n",
       "      <td>1</td>\n",
       "      <td>3101298</td>\n",
       "      <td>12.2875</td>\n",
       "      <td>NaN</td>\n",
       "      <td>S</td>\n",
       "    </tr>\n",
       "  </tbody>\n",
       "</table>\n",
       "</div>"
      ],
      "text/plain": [
       "   PassengerId  Pclass                                          Name     Sex  \\\n",
       "0          892       3                              Kelly, Mr. James    male   \n",
       "1          893       3              Wilkes, Mrs. James (Ellen Needs)  female   \n",
       "2          894       2                     Myles, Mr. Thomas Francis    male   \n",
       "3          895       3                              Wirz, Mr. Albert    male   \n",
       "4          896       3  Hirvonen, Mrs. Alexander (Helga E Lindqvist)  female   \n",
       "\n",
       "    Age  SibSp  Parch   Ticket     Fare Cabin Embarked  \n",
       "0  34.5      0      0   330911   7.8292   NaN        Q  \n",
       "1  47.0      1      0   363272   7.0000   NaN        S  \n",
       "2  62.0      0      0   240276   9.6875   NaN        Q  \n",
       "3  27.0      0      0   315154   8.6625   NaN        S  \n",
       "4  22.0      1      1  3101298  12.2875   NaN        S  "
      ]
     },
     "execution_count": 4,
     "metadata": {},
     "output_type": "execute_result"
    }
   ],
   "source": [
    "test_data.head()"
   ]
  },
  {
   "cell_type": "code",
   "execution_count": 5,
   "id": "903311e3",
   "metadata": {
    "execution": {
     "iopub.execute_input": "2025-06-25T12:08:27.500114Z",
     "iopub.status.busy": "2025-06-25T12:08:27.499690Z",
     "iopub.status.idle": "2025-06-25T12:08:27.509207Z",
     "shell.execute_reply": "2025-06-25T12:08:27.508192Z"
    },
    "papermill": {
     "duration": 0.023904,
     "end_time": "2025-06-25T12:08:27.511044",
     "exception": false,
     "start_time": "2025-06-25T12:08:27.487140",
     "status": "completed"
    },
    "tags": []
   },
   "outputs": [
    {
     "data": {
      "text/plain": [
       "Index(['PassengerId', 'Survived', 'Pclass', 'Name', 'Sex', 'Age', 'SibSp',\n",
       "       'Parch', 'Ticket', 'Fare', 'Cabin', 'Embarked'],\n",
       "      dtype='object')"
      ]
     },
     "execution_count": 5,
     "metadata": {},
     "output_type": "execute_result"
    }
   ],
   "source": [
    "train_data.columns"
   ]
  },
  {
   "cell_type": "code",
   "execution_count": 6,
   "id": "7a4619d7",
   "metadata": {
    "execution": {
     "iopub.execute_input": "2025-06-25T12:08:27.536795Z",
     "iopub.status.busy": "2025-06-25T12:08:27.536509Z",
     "iopub.status.idle": "2025-06-25T12:08:27.543427Z",
     "shell.execute_reply": "2025-06-25T12:08:27.542246Z"
    },
    "papermill": {
     "duration": 0.021704,
     "end_time": "2025-06-25T12:08:27.545167",
     "exception": false,
     "start_time": "2025-06-25T12:08:27.523463",
     "status": "completed"
    },
    "tags": []
   },
   "outputs": [
    {
     "data": {
      "text/plain": [
       "Index(['PassengerId', 'Pclass', 'Name', 'Sex', 'Age', 'SibSp', 'Parch',\n",
       "       'Ticket', 'Fare', 'Cabin', 'Embarked'],\n",
       "      dtype='object')"
      ]
     },
     "execution_count": 6,
     "metadata": {},
     "output_type": "execute_result"
    }
   ],
   "source": [
    "test_data.columns"
   ]
  },
  {
   "cell_type": "code",
   "execution_count": 7,
   "id": "4f639199",
   "metadata": {
    "execution": {
     "iopub.execute_input": "2025-06-25T12:08:27.569372Z",
     "iopub.status.busy": "2025-06-25T12:08:27.569007Z",
     "iopub.status.idle": "2025-06-25T12:08:27.575715Z",
     "shell.execute_reply": "2025-06-25T12:08:27.574792Z"
    },
    "papermill": {
     "duration": 0.020932,
     "end_time": "2025-06-25T12:08:27.577474",
     "exception": false,
     "start_time": "2025-06-25T12:08:27.556542",
     "status": "completed"
    },
    "tags": []
   },
   "outputs": [
    {
     "data": {
      "text/plain": [
       "(891, 12)"
      ]
     },
     "execution_count": 7,
     "metadata": {},
     "output_type": "execute_result"
    }
   ],
   "source": [
    "train_data.shape"
   ]
  },
  {
   "cell_type": "code",
   "execution_count": 8,
   "id": "97595ea5",
   "metadata": {
    "execution": {
     "iopub.execute_input": "2025-06-25T12:08:27.604197Z",
     "iopub.status.busy": "2025-06-25T12:08:27.603885Z",
     "iopub.status.idle": "2025-06-25T12:08:27.610228Z",
     "shell.execute_reply": "2025-06-25T12:08:27.609327Z"
    },
    "papermill": {
     "duration": 0.021124,
     "end_time": "2025-06-25T12:08:27.611778",
     "exception": false,
     "start_time": "2025-06-25T12:08:27.590654",
     "status": "completed"
    },
    "tags": []
   },
   "outputs": [
    {
     "data": {
      "text/plain": [
       "(418, 11)"
      ]
     },
     "execution_count": 8,
     "metadata": {},
     "output_type": "execute_result"
    }
   ],
   "source": [
    "test_data.shape"
   ]
  },
  {
   "cell_type": "markdown",
   "id": "1db678a3",
   "metadata": {
    "papermill": {
     "duration": 0.011523,
     "end_time": "2025-06-25T12:08:27.635995",
     "exception": false,
     "start_time": "2025-06-25T12:08:27.624472",
     "status": "completed"
    },
    "tags": []
   },
   "source": [
    "**Eksik veri analizi**\n"
   ]
  },
  {
   "cell_type": "code",
   "execution_count": 9,
   "id": "5151ced5",
   "metadata": {
    "execution": {
     "iopub.execute_input": "2025-06-25T12:08:27.660953Z",
     "iopub.status.busy": "2025-06-25T12:08:27.660584Z",
     "iopub.status.idle": "2025-06-25T12:08:27.670397Z",
     "shell.execute_reply": "2025-06-25T12:08:27.669616Z"
    },
    "papermill": {
     "duration": 0.023689,
     "end_time": "2025-06-25T12:08:27.671915",
     "exception": false,
     "start_time": "2025-06-25T12:08:27.648226",
     "status": "completed"
    },
    "tags": []
   },
   "outputs": [
    {
     "data": {
      "text/plain": [
       "PassengerId      0\n",
       "Survived         0\n",
       "Pclass           0\n",
       "Name             0\n",
       "Sex              0\n",
       "Age            177\n",
       "SibSp            0\n",
       "Parch            0\n",
       "Ticket           0\n",
       "Fare             0\n",
       "Cabin          687\n",
       "Embarked         2\n",
       "dtype: int64"
      ]
     },
     "execution_count": 9,
     "metadata": {},
     "output_type": "execute_result"
    }
   ],
   "source": [
    "train_data.isnull().sum()\n",
    "\n"
   ]
  },
  {
   "cell_type": "code",
   "execution_count": 10,
   "id": "c2dee6ad",
   "metadata": {
    "execution": {
     "iopub.execute_input": "2025-06-25T12:08:27.696323Z",
     "iopub.status.busy": "2025-06-25T12:08:27.695992Z",
     "iopub.status.idle": "2025-06-25T12:08:27.703644Z",
     "shell.execute_reply": "2025-06-25T12:08:27.702679Z"
    },
    "papermill": {
     "duration": 0.021734,
     "end_time": "2025-06-25T12:08:27.705279",
     "exception": false,
     "start_time": "2025-06-25T12:08:27.683545",
     "status": "completed"
    },
    "tags": []
   },
   "outputs": [
    {
     "data": {
      "text/plain": [
       "PassengerId      0\n",
       "Pclass           0\n",
       "Name             0\n",
       "Sex              0\n",
       "Age             86\n",
       "SibSp            0\n",
       "Parch            0\n",
       "Ticket           0\n",
       "Fare             1\n",
       "Cabin          327\n",
       "Embarked         0\n",
       "dtype: int64"
      ]
     },
     "execution_count": 10,
     "metadata": {},
     "output_type": "execute_result"
    }
   ],
   "source": [
    "test_data.isnull().sum()\n",
    "\n"
   ]
  },
  {
   "cell_type": "code",
   "execution_count": 11,
   "id": "6ef6022e",
   "metadata": {
    "execution": {
     "iopub.execute_input": "2025-06-25T12:08:27.730111Z",
     "iopub.status.busy": "2025-06-25T12:08:27.729808Z",
     "iopub.status.idle": "2025-06-25T12:08:27.744534Z",
     "shell.execute_reply": "2025-06-25T12:08:27.743463Z"
    },
    "papermill": {
     "duration": 0.029384,
     "end_time": "2025-06-25T12:08:27.746603",
     "exception": false,
     "start_time": "2025-06-25T12:08:27.717219",
     "status": "completed"
    },
    "tags": []
   },
   "outputs": [],
   "source": [
    "#iki dataseti birleştir ve missing value'ları handle et\n",
    "ilk_train = train_data.copy()\n",
    "ilk_test = test_data.copy()\n",
    "full_data = pd.concat([train_data, test_data],axis=0).reset_index(drop=True)\n"
   ]
  },
  {
   "cell_type": "code",
   "execution_count": 12,
   "id": "a045af6a",
   "metadata": {
    "execution": {
     "iopub.execute_input": "2025-06-25T12:08:27.781844Z",
     "iopub.status.busy": "2025-06-25T12:08:27.781464Z",
     "iopub.status.idle": "2025-06-25T12:08:27.803312Z",
     "shell.execute_reply": "2025-06-25T12:08:27.802420Z"
    },
    "papermill": {
     "duration": 0.04108,
     "end_time": "2025-06-25T12:08:27.804888",
     "exception": false,
     "start_time": "2025-06-25T12:08:27.763808",
     "status": "completed"
    },
    "tags": []
   },
   "outputs": [
    {
     "data": {
      "text/html": [
       "<div>\n",
       "<style scoped>\n",
       "    .dataframe tbody tr th:only-of-type {\n",
       "        vertical-align: middle;\n",
       "    }\n",
       "\n",
       "    .dataframe tbody tr th {\n",
       "        vertical-align: top;\n",
       "    }\n",
       "\n",
       "    .dataframe thead th {\n",
       "        text-align: right;\n",
       "    }\n",
       "</style>\n",
       "<table border=\"1\" class=\"dataframe\">\n",
       "  <thead>\n",
       "    <tr style=\"text-align: right;\">\n",
       "      <th></th>\n",
       "      <th>PassengerId</th>\n",
       "      <th>Survived</th>\n",
       "      <th>Pclass</th>\n",
       "      <th>Name</th>\n",
       "      <th>Sex</th>\n",
       "      <th>Age</th>\n",
       "      <th>SibSp</th>\n",
       "      <th>Parch</th>\n",
       "      <th>Ticket</th>\n",
       "      <th>Fare</th>\n",
       "      <th>Cabin</th>\n",
       "      <th>Embarked</th>\n",
       "    </tr>\n",
       "  </thead>\n",
       "  <tbody>\n",
       "    <tr>\n",
       "      <th>0</th>\n",
       "      <td>1</td>\n",
       "      <td>0.0</td>\n",
       "      <td>3</td>\n",
       "      <td>Braund, Mr. Owen Harris</td>\n",
       "      <td>male</td>\n",
       "      <td>22.0</td>\n",
       "      <td>1</td>\n",
       "      <td>0</td>\n",
       "      <td>A/5 21171</td>\n",
       "      <td>7.2500</td>\n",
       "      <td>NaN</td>\n",
       "      <td>S</td>\n",
       "    </tr>\n",
       "    <tr>\n",
       "      <th>1</th>\n",
       "      <td>2</td>\n",
       "      <td>1.0</td>\n",
       "      <td>1</td>\n",
       "      <td>Cumings, Mrs. John Bradley (Florence Briggs Th...</td>\n",
       "      <td>female</td>\n",
       "      <td>38.0</td>\n",
       "      <td>1</td>\n",
       "      <td>0</td>\n",
       "      <td>PC 17599</td>\n",
       "      <td>71.2833</td>\n",
       "      <td>C85</td>\n",
       "      <td>C</td>\n",
       "    </tr>\n",
       "    <tr>\n",
       "      <th>2</th>\n",
       "      <td>3</td>\n",
       "      <td>1.0</td>\n",
       "      <td>3</td>\n",
       "      <td>Heikkinen, Miss. Laina</td>\n",
       "      <td>female</td>\n",
       "      <td>26.0</td>\n",
       "      <td>0</td>\n",
       "      <td>0</td>\n",
       "      <td>STON/O2. 3101282</td>\n",
       "      <td>7.9250</td>\n",
       "      <td>NaN</td>\n",
       "      <td>S</td>\n",
       "    </tr>\n",
       "    <tr>\n",
       "      <th>3</th>\n",
       "      <td>4</td>\n",
       "      <td>1.0</td>\n",
       "      <td>1</td>\n",
       "      <td>Futrelle, Mrs. Jacques Heath (Lily May Peel)</td>\n",
       "      <td>female</td>\n",
       "      <td>35.0</td>\n",
       "      <td>1</td>\n",
       "      <td>0</td>\n",
       "      <td>113803</td>\n",
       "      <td>53.1000</td>\n",
       "      <td>C123</td>\n",
       "      <td>S</td>\n",
       "    </tr>\n",
       "    <tr>\n",
       "      <th>4</th>\n",
       "      <td>5</td>\n",
       "      <td>0.0</td>\n",
       "      <td>3</td>\n",
       "      <td>Allen, Mr. William Henry</td>\n",
       "      <td>male</td>\n",
       "      <td>35.0</td>\n",
       "      <td>0</td>\n",
       "      <td>0</td>\n",
       "      <td>373450</td>\n",
       "      <td>8.0500</td>\n",
       "      <td>NaN</td>\n",
       "      <td>S</td>\n",
       "    </tr>\n",
       "    <tr>\n",
       "      <th>...</th>\n",
       "      <td>...</td>\n",
       "      <td>...</td>\n",
       "      <td>...</td>\n",
       "      <td>...</td>\n",
       "      <td>...</td>\n",
       "      <td>...</td>\n",
       "      <td>...</td>\n",
       "      <td>...</td>\n",
       "      <td>...</td>\n",
       "      <td>...</td>\n",
       "      <td>...</td>\n",
       "      <td>...</td>\n",
       "    </tr>\n",
       "    <tr>\n",
       "      <th>1304</th>\n",
       "      <td>1305</td>\n",
       "      <td>NaN</td>\n",
       "      <td>3</td>\n",
       "      <td>Spector, Mr. Woolf</td>\n",
       "      <td>male</td>\n",
       "      <td>NaN</td>\n",
       "      <td>0</td>\n",
       "      <td>0</td>\n",
       "      <td>A.5. 3236</td>\n",
       "      <td>8.0500</td>\n",
       "      <td>NaN</td>\n",
       "      <td>S</td>\n",
       "    </tr>\n",
       "    <tr>\n",
       "      <th>1305</th>\n",
       "      <td>1306</td>\n",
       "      <td>NaN</td>\n",
       "      <td>1</td>\n",
       "      <td>Oliva y Ocana, Dona. Fermina</td>\n",
       "      <td>female</td>\n",
       "      <td>39.0</td>\n",
       "      <td>0</td>\n",
       "      <td>0</td>\n",
       "      <td>PC 17758</td>\n",
       "      <td>108.9000</td>\n",
       "      <td>C105</td>\n",
       "      <td>C</td>\n",
       "    </tr>\n",
       "    <tr>\n",
       "      <th>1306</th>\n",
       "      <td>1307</td>\n",
       "      <td>NaN</td>\n",
       "      <td>3</td>\n",
       "      <td>Saether, Mr. Simon Sivertsen</td>\n",
       "      <td>male</td>\n",
       "      <td>38.5</td>\n",
       "      <td>0</td>\n",
       "      <td>0</td>\n",
       "      <td>SOTON/O.Q. 3101262</td>\n",
       "      <td>7.2500</td>\n",
       "      <td>NaN</td>\n",
       "      <td>S</td>\n",
       "    </tr>\n",
       "    <tr>\n",
       "      <th>1307</th>\n",
       "      <td>1308</td>\n",
       "      <td>NaN</td>\n",
       "      <td>3</td>\n",
       "      <td>Ware, Mr. Frederick</td>\n",
       "      <td>male</td>\n",
       "      <td>NaN</td>\n",
       "      <td>0</td>\n",
       "      <td>0</td>\n",
       "      <td>359309</td>\n",
       "      <td>8.0500</td>\n",
       "      <td>NaN</td>\n",
       "      <td>S</td>\n",
       "    </tr>\n",
       "    <tr>\n",
       "      <th>1308</th>\n",
       "      <td>1309</td>\n",
       "      <td>NaN</td>\n",
       "      <td>3</td>\n",
       "      <td>Peter, Master. Michael J</td>\n",
       "      <td>male</td>\n",
       "      <td>NaN</td>\n",
       "      <td>1</td>\n",
       "      <td>1</td>\n",
       "      <td>2668</td>\n",
       "      <td>22.3583</td>\n",
       "      <td>NaN</td>\n",
       "      <td>C</td>\n",
       "    </tr>\n",
       "  </tbody>\n",
       "</table>\n",
       "<p>1309 rows × 12 columns</p>\n",
       "</div>"
      ],
      "text/plain": [
       "      PassengerId  Survived  Pclass  \\\n",
       "0               1       0.0       3   \n",
       "1               2       1.0       1   \n",
       "2               3       1.0       3   \n",
       "3               4       1.0       1   \n",
       "4               5       0.0       3   \n",
       "...           ...       ...     ...   \n",
       "1304         1305       NaN       3   \n",
       "1305         1306       NaN       1   \n",
       "1306         1307       NaN       3   \n",
       "1307         1308       NaN       3   \n",
       "1308         1309       NaN       3   \n",
       "\n",
       "                                                   Name     Sex   Age  SibSp  \\\n",
       "0                               Braund, Mr. Owen Harris    male  22.0      1   \n",
       "1     Cumings, Mrs. John Bradley (Florence Briggs Th...  female  38.0      1   \n",
       "2                                Heikkinen, Miss. Laina  female  26.0      0   \n",
       "3          Futrelle, Mrs. Jacques Heath (Lily May Peel)  female  35.0      1   \n",
       "4                              Allen, Mr. William Henry    male  35.0      0   \n",
       "...                                                 ...     ...   ...    ...   \n",
       "1304                                 Spector, Mr. Woolf    male   NaN      0   \n",
       "1305                       Oliva y Ocana, Dona. Fermina  female  39.0      0   \n",
       "1306                       Saether, Mr. Simon Sivertsen    male  38.5      0   \n",
       "1307                                Ware, Mr. Frederick    male   NaN      0   \n",
       "1308                           Peter, Master. Michael J    male   NaN      1   \n",
       "\n",
       "      Parch              Ticket      Fare Cabin Embarked  \n",
       "0         0           A/5 21171    7.2500   NaN        S  \n",
       "1         0            PC 17599   71.2833   C85        C  \n",
       "2         0    STON/O2. 3101282    7.9250   NaN        S  \n",
       "3         0              113803   53.1000  C123        S  \n",
       "4         0              373450    8.0500   NaN        S  \n",
       "...     ...                 ...       ...   ...      ...  \n",
       "1304      0           A.5. 3236    8.0500   NaN        S  \n",
       "1305      0            PC 17758  108.9000  C105        C  \n",
       "1306      0  SOTON/O.Q. 3101262    7.2500   NaN        S  \n",
       "1307      0              359309    8.0500   NaN        S  \n",
       "1308      1                2668   22.3583   NaN        C  \n",
       "\n",
       "[1309 rows x 12 columns]"
      ]
     },
     "execution_count": 12,
     "metadata": {},
     "output_type": "execute_result"
    }
   ],
   "source": [
    "full_data"
   ]
  },
  {
   "cell_type": "code",
   "execution_count": 13,
   "id": "7630ca49",
   "metadata": {
    "execution": {
     "iopub.execute_input": "2025-06-25T12:08:27.897391Z",
     "iopub.status.busy": "2025-06-25T12:08:27.897039Z",
     "iopub.status.idle": "2025-06-25T12:08:27.905200Z",
     "shell.execute_reply": "2025-06-25T12:08:27.904412Z"
    },
    "papermill": {
     "duration": 0.08938,
     "end_time": "2025-06-25T12:08:27.906834",
     "exception": false,
     "start_time": "2025-06-25T12:08:27.817454",
     "status": "completed"
    },
    "tags": []
   },
   "outputs": [
    {
     "data": {
      "text/plain": [
       "PassengerId       0\n",
       "Survived        418\n",
       "Pclass            0\n",
       "Name              0\n",
       "Sex               0\n",
       "Age             263\n",
       "SibSp             0\n",
       "Parch             0\n",
       "Ticket            0\n",
       "Fare              1\n",
       "Cabin          1014\n",
       "Embarked          2\n",
       "dtype: int64"
      ]
     },
     "execution_count": 13,
     "metadata": {},
     "output_type": "execute_result"
    }
   ],
   "source": [
    "full_data.isnull().sum()"
   ]
  },
  {
   "cell_type": "code",
   "execution_count": 14,
   "id": "95c35e1a",
   "metadata": {
    "execution": {
     "iopub.execute_input": "2025-06-25T12:08:27.933134Z",
     "iopub.status.busy": "2025-06-25T12:08:27.932827Z",
     "iopub.status.idle": "2025-06-25T12:08:27.939071Z",
     "shell.execute_reply": "2025-06-25T12:08:27.938151Z"
    },
    "papermill": {
     "duration": 0.021105,
     "end_time": "2025-06-25T12:08:27.940837",
     "exception": false,
     "start_time": "2025-06-25T12:08:27.919732",
     "status": "completed"
    },
    "tags": []
   },
   "outputs": [],
   "source": [
    "#Cabin bilgisi fazla eksik o yüzden çıkarıyoruz\n",
    "full_data=full_data.drop(columns=['Cabin'],axis=1)"
   ]
  },
  {
   "cell_type": "code",
   "execution_count": 15,
   "id": "9d2f53e8",
   "metadata": {
    "execution": {
     "iopub.execute_input": "2025-06-25T12:08:27.966616Z",
     "iopub.status.busy": "2025-06-25T12:08:27.966331Z",
     "iopub.status.idle": "2025-06-25T12:08:27.971973Z",
     "shell.execute_reply": "2025-06-25T12:08:27.971104Z"
    },
    "papermill": {
     "duration": 0.020219,
     "end_time": "2025-06-25T12:08:27.973436",
     "exception": false,
     "start_time": "2025-06-25T12:08:27.953217",
     "status": "completed"
    },
    "tags": []
   },
   "outputs": [
    {
     "data": {
      "text/plain": [
       "Index(['PassengerId', 'Survived', 'Pclass', 'Name', 'Sex', 'Age', 'SibSp',\n",
       "       'Parch', 'Ticket', 'Fare', 'Embarked'],\n",
       "      dtype='object')"
      ]
     },
     "execution_count": 15,
     "metadata": {},
     "output_type": "execute_result"
    }
   ],
   "source": [
    "full_data.columns\n",
    "\n"
   ]
  },
  {
   "cell_type": "code",
   "execution_count": 16,
   "id": "5b6181b6",
   "metadata": {
    "execution": {
     "iopub.execute_input": "2025-06-25T12:08:28.002137Z",
     "iopub.status.busy": "2025-06-25T12:08:28.001817Z",
     "iopub.status.idle": "2025-06-25T12:08:28.016889Z",
     "shell.execute_reply": "2025-06-25T12:08:28.015765Z"
    },
    "papermill": {
     "duration": 0.032756,
     "end_time": "2025-06-25T12:08:28.018699",
     "exception": false,
     "start_time": "2025-06-25T12:08:27.985943",
     "status": "completed"
    },
    "tags": []
   },
   "outputs": [
    {
     "data": {
      "text/html": [
       "<div>\n",
       "<style scoped>\n",
       "    .dataframe tbody tr th:only-of-type {\n",
       "        vertical-align: middle;\n",
       "    }\n",
       "\n",
       "    .dataframe tbody tr th {\n",
       "        vertical-align: top;\n",
       "    }\n",
       "\n",
       "    .dataframe thead th {\n",
       "        text-align: right;\n",
       "    }\n",
       "</style>\n",
       "<table border=\"1\" class=\"dataframe\">\n",
       "  <thead>\n",
       "    <tr style=\"text-align: right;\">\n",
       "      <th></th>\n",
       "      <th>PassengerId</th>\n",
       "      <th>Survived</th>\n",
       "      <th>Pclass</th>\n",
       "      <th>Name</th>\n",
       "      <th>Sex</th>\n",
       "      <th>Age</th>\n",
       "      <th>SibSp</th>\n",
       "      <th>Parch</th>\n",
       "      <th>Ticket</th>\n",
       "      <th>Fare</th>\n",
       "      <th>Embarked</th>\n",
       "    </tr>\n",
       "  </thead>\n",
       "  <tbody>\n",
       "    <tr>\n",
       "      <th>61</th>\n",
       "      <td>62</td>\n",
       "      <td>1.0</td>\n",
       "      <td>1</td>\n",
       "      <td>Icard, Miss. Amelie</td>\n",
       "      <td>female</td>\n",
       "      <td>38.0</td>\n",
       "      <td>0</td>\n",
       "      <td>0</td>\n",
       "      <td>113572</td>\n",
       "      <td>80.0</td>\n",
       "      <td>NaN</td>\n",
       "    </tr>\n",
       "    <tr>\n",
       "      <th>829</th>\n",
       "      <td>830</td>\n",
       "      <td>1.0</td>\n",
       "      <td>1</td>\n",
       "      <td>Stone, Mrs. George Nelson (Martha Evelyn)</td>\n",
       "      <td>female</td>\n",
       "      <td>62.0</td>\n",
       "      <td>0</td>\n",
       "      <td>0</td>\n",
       "      <td>113572</td>\n",
       "      <td>80.0</td>\n",
       "      <td>NaN</td>\n",
       "    </tr>\n",
       "  </tbody>\n",
       "</table>\n",
       "</div>"
      ],
      "text/plain": [
       "     PassengerId  Survived  Pclass                                       Name  \\\n",
       "61            62       1.0       1                        Icard, Miss. Amelie   \n",
       "829          830       1.0       1  Stone, Mrs. George Nelson (Martha Evelyn)   \n",
       "\n",
       "        Sex   Age  SibSp  Parch  Ticket  Fare Embarked  \n",
       "61   female  38.0      0      0  113572  80.0      NaN  \n",
       "829  female  62.0      0      0  113572  80.0      NaN  "
      ]
     },
     "execution_count": 16,
     "metadata": {},
     "output_type": "execute_result"
    }
   ],
   "source": [
    "full_data[full_data['Embarked'].isnull()]"
   ]
  },
  {
   "cell_type": "code",
   "execution_count": 17,
   "id": "69c8c6e7",
   "metadata": {
    "execution": {
     "iopub.execute_input": "2025-06-25T12:08:28.044964Z",
     "iopub.status.busy": "2025-06-25T12:08:28.044617Z",
     "iopub.status.idle": "2025-06-25T12:08:28.052698Z",
     "shell.execute_reply": "2025-06-25T12:08:28.051730Z"
    },
    "papermill": {
     "duration": 0.02325,
     "end_time": "2025-06-25T12:08:28.054473",
     "exception": false,
     "start_time": "2025-06-25T12:08:28.031223",
     "status": "completed"
    },
    "tags": []
   },
   "outputs": [],
   "source": [
    "full_data = full_data.dropna(subset=['Embarked'])"
   ]
  },
  {
   "cell_type": "code",
   "execution_count": 18,
   "id": "7f4c8786",
   "metadata": {
    "execution": {
     "iopub.execute_input": "2025-06-25T12:08:28.082113Z",
     "iopub.status.busy": "2025-06-25T12:08:28.081852Z",
     "iopub.status.idle": "2025-06-25T12:08:28.088179Z",
     "shell.execute_reply": "2025-06-25T12:08:28.086951Z"
    },
    "papermill": {
     "duration": 0.022263,
     "end_time": "2025-06-25T12:08:28.090110",
     "exception": false,
     "start_time": "2025-06-25T12:08:28.067847",
     "status": "completed"
    },
    "tags": []
   },
   "outputs": [
    {
     "data": {
      "text/plain": [
       "(1307, 11)"
      ]
     },
     "execution_count": 18,
     "metadata": {},
     "output_type": "execute_result"
    }
   ],
   "source": [
    "full_data.shape"
   ]
  },
  {
   "cell_type": "code",
   "execution_count": 19,
   "id": "0268b334",
   "metadata": {
    "execution": {
     "iopub.execute_input": "2025-06-25T12:08:28.119032Z",
     "iopub.status.busy": "2025-06-25T12:08:28.118713Z",
     "iopub.status.idle": "2025-06-25T12:08:28.132755Z",
     "shell.execute_reply": "2025-06-25T12:08:28.131700Z"
    },
    "papermill": {
     "duration": 0.030947,
     "end_time": "2025-06-25T12:08:28.134438",
     "exception": false,
     "start_time": "2025-06-25T12:08:28.103491",
     "status": "completed"
    },
    "tags": []
   },
   "outputs": [
    {
     "data": {
      "text/html": [
       "<div>\n",
       "<style scoped>\n",
       "    .dataframe tbody tr th:only-of-type {\n",
       "        vertical-align: middle;\n",
       "    }\n",
       "\n",
       "    .dataframe tbody tr th {\n",
       "        vertical-align: top;\n",
       "    }\n",
       "\n",
       "    .dataframe thead th {\n",
       "        text-align: right;\n",
       "    }\n",
       "</style>\n",
       "<table border=\"1\" class=\"dataframe\">\n",
       "  <thead>\n",
       "    <tr style=\"text-align: right;\">\n",
       "      <th></th>\n",
       "      <th>PassengerId</th>\n",
       "      <th>Survived</th>\n",
       "      <th>Pclass</th>\n",
       "      <th>Name</th>\n",
       "      <th>Sex</th>\n",
       "      <th>Age</th>\n",
       "      <th>SibSp</th>\n",
       "      <th>Parch</th>\n",
       "      <th>Ticket</th>\n",
       "      <th>Fare</th>\n",
       "      <th>Embarked</th>\n",
       "    </tr>\n",
       "  </thead>\n",
       "  <tbody>\n",
       "    <tr>\n",
       "      <th>1043</th>\n",
       "      <td>1044</td>\n",
       "      <td>NaN</td>\n",
       "      <td>3</td>\n",
       "      <td>Storey, Mr. Thomas</td>\n",
       "      <td>male</td>\n",
       "      <td>60.5</td>\n",
       "      <td>0</td>\n",
       "      <td>0</td>\n",
       "      <td>3701</td>\n",
       "      <td>NaN</td>\n",
       "      <td>S</td>\n",
       "    </tr>\n",
       "  </tbody>\n",
       "</table>\n",
       "</div>"
      ],
      "text/plain": [
       "      PassengerId  Survived  Pclass                Name   Sex   Age  SibSp  \\\n",
       "1043         1044       NaN       3  Storey, Mr. Thomas  male  60.5      0   \n",
       "\n",
       "      Parch Ticket  Fare Embarked  \n",
       "1043      0   3701   NaN        S  "
      ]
     },
     "execution_count": 19,
     "metadata": {},
     "output_type": "execute_result"
    }
   ],
   "source": [
    "full_data[full_data['Fare'].isnull()]"
   ]
  },
  {
   "cell_type": "code",
   "execution_count": 20,
   "id": "e6d613ce",
   "metadata": {
    "execution": {
     "iopub.execute_input": "2025-06-25T12:08:28.161007Z",
     "iopub.status.busy": "2025-06-25T12:08:28.160718Z",
     "iopub.status.idle": "2025-06-25T12:08:28.168402Z",
     "shell.execute_reply": "2025-06-25T12:08:28.167576Z"
    },
    "papermill": {
     "duration": 0.022411,
     "end_time": "2025-06-25T12:08:28.169725",
     "exception": false,
     "start_time": "2025-06-25T12:08:28.147314",
     "status": "completed"
    },
    "tags": []
   },
   "outputs": [
    {
     "data": {
      "text/plain": [
       "13.302888700564973"
      ]
     },
     "execution_count": 20,
     "metadata": {},
     "output_type": "execute_result"
    }
   ],
   "source": [
    "#NULL FARE DEĞERİNİ DOLDURMAK İÇİN PCLASS DEĞERİ 3 OLAN YOLCULARIN FARE DEĞERİNİN ORTALAMASINI ALDIK\n",
    "mean_fare_3 = np.mean(full_data[full_data['Pclass'] == 3]['Fare'])\n",
    "mean_fare_3"
   ]
  },
  {
   "cell_type": "code",
   "execution_count": 21,
   "id": "208f13f6",
   "metadata": {
    "execution": {
     "iopub.execute_input": "2025-06-25T12:08:28.196085Z",
     "iopub.status.busy": "2025-06-25T12:08:28.195767Z",
     "iopub.status.idle": "2025-06-25T12:08:28.201158Z",
     "shell.execute_reply": "2025-06-25T12:08:28.200357Z"
    },
    "papermill": {
     "duration": 0.020463,
     "end_time": "2025-06-25T12:08:28.202748",
     "exception": false,
     "start_time": "2025-06-25T12:08:28.182285",
     "status": "completed"
    },
    "tags": []
   },
   "outputs": [],
   "source": [
    "full_data['Fare']= full_data['Fare'].fillna(mean_fare_3)"
   ]
  },
  {
   "cell_type": "code",
   "execution_count": 22,
   "id": "957014d7",
   "metadata": {
    "execution": {
     "iopub.execute_input": "2025-06-25T12:08:28.229145Z",
     "iopub.status.busy": "2025-06-25T12:08:28.228862Z",
     "iopub.status.idle": "2025-06-25T12:08:28.234958Z",
     "shell.execute_reply": "2025-06-25T12:08:28.234021Z"
    },
    "papermill": {
     "duration": 0.021242,
     "end_time": "2025-06-25T12:08:28.236442",
     "exception": false,
     "start_time": "2025-06-25T12:08:28.215200",
     "status": "completed"
    },
    "tags": []
   },
   "outputs": [
    {
     "data": {
      "text/plain": [
       "0"
      ]
     },
     "execution_count": 22,
     "metadata": {},
     "output_type": "execute_result"
    }
   ],
   "source": [
    "full_data['Fare'].isnull().sum()"
   ]
  },
  {
   "cell_type": "markdown",
   "id": "13314ea4",
   "metadata": {
    "papermill": {
     "duration": 0.012289,
     "end_time": "2025-06-25T12:08:28.261618",
     "exception": false,
     "start_time": "2025-06-25T12:08:28.249329",
     "status": "completed"
    },
    "tags": []
   },
   "source": [
    "FARE VE EMBARKED VE CABİN MİSSİNG COLUMNLARI HANDLE EDİLDİ\n",
    "1 TANE KALDI"
   ]
  },
  {
   "cell_type": "code",
   "execution_count": 23,
   "id": "4f9a9631",
   "metadata": {
    "execution": {
     "iopub.execute_input": "2025-06-25T12:08:28.288958Z",
     "iopub.status.busy": "2025-06-25T12:08:28.288637Z",
     "iopub.status.idle": "2025-06-25T12:08:28.296474Z",
     "shell.execute_reply": "2025-06-25T12:08:28.295503Z"
    },
    "papermill": {
     "duration": 0.023752,
     "end_time": "2025-06-25T12:08:28.298183",
     "exception": false,
     "start_time": "2025-06-25T12:08:28.274431",
     "status": "completed"
    },
    "tags": []
   },
   "outputs": [
    {
     "data": {
      "text/plain": [
       "PassengerId      0\n",
       "Survived       418\n",
       "Pclass           0\n",
       "Name             0\n",
       "Sex              0\n",
       "Age            263\n",
       "SibSp            0\n",
       "Parch            0\n",
       "Ticket           0\n",
       "Fare             0\n",
       "Embarked         0\n",
       "dtype: int64"
      ]
     },
     "execution_count": 23,
     "metadata": {},
     "output_type": "execute_result"
    }
   ],
   "source": [
    "full_data.isnull().sum()"
   ]
  },
  {
   "cell_type": "code",
   "execution_count": 24,
   "id": "d04dfbd0",
   "metadata": {
    "execution": {
     "iopub.execute_input": "2025-06-25T12:08:28.324837Z",
     "iopub.status.busy": "2025-06-25T12:08:28.324545Z",
     "iopub.status.idle": "2025-06-25T12:08:30.949698Z",
     "shell.execute_reply": "2025-06-25T12:08:30.948670Z"
    },
    "papermill": {
     "duration": 2.640471,
     "end_time": "2025-06-25T12:08:30.951434",
     "exception": false,
     "start_time": "2025-06-25T12:08:28.310963",
     "status": "completed"
    },
    "tags": []
   },
   "outputs": [
    {
     "data": {
      "image/png": "[encoded data removed]",
      "text/plain": [
       "<Figure size 1000x800 with 2 Axes>"
      ]
     },
     "metadata": {},
     "output_type": "display_data"
    }
   ],
   "source": [
    "import seaborn as sns\n",
    "import matplotlib.pyplot as plt\n",
    "\n",
    "# Sadece sayısal sütunları al\n",
    "numeric_cols = full_data.select_dtypes(include=['int64', 'float64'])\n",
    "\n",
    "# Korelasyon matrisi\n",
    "plt.figure(figsize=(10, 8))\n",
    "sns.heatmap(numeric_cols.corr(), annot=True, cmap='coolwarm')\n",
    "plt.title(\"Sayısal Sütunlar Arası Korelasyon\")\n",
    "plt.show()\n"
   ]
  },
  {
   "cell_type": "code",
   "execution_count": 25,
   "id": "ab731088",
   "metadata": {
    "execution": {
     "iopub.execute_input": "2025-06-25T12:08:30.984391Z",
     "iopub.status.busy": "2025-06-25T12:08:30.983877Z",
     "iopub.status.idle": "2025-06-25T12:08:30.998688Z",
     "shell.execute_reply": "2025-06-25T12:08:30.997746Z"
    },
    "papermill": {
     "duration": 0.034008,
     "end_time": "2025-06-25T12:08:31.000348",
     "exception": false,
     "start_time": "2025-06-25T12:08:30.966340",
     "status": "completed"
    },
    "tags": []
   },
   "outputs": [
    {
     "data": {
      "text/plain": [
       "Pclass  SibSp\n",
       "1       0        38.0\n",
       "        1        39.0\n",
       "        2        47.0\n",
       "        3        23.5\n",
       "2       0        29.0\n",
       "        1        29.0\n",
       "        2        22.5\n",
       "        3        30.0\n",
       "3       0        25.0\n",
       "        1        24.0\n",
       "        2        19.5\n",
       "        3         8.0\n",
       "        4         7.0\n",
       "        5        10.5\n",
       "        8        14.5\n",
       "Name: Age, dtype: float64"
      ]
     },
     "execution_count": 25,
     "metadata": {},
     "output_type": "execute_result"
    }
   ],
   "source": [
    "#pclass ve sibsp kullanarak age doldurmak istiyorum\n",
    "full_data.groupby(['Pclass', 'SibSp'])['Age'].median()"
   ]
  },
  {
   "cell_type": "code",
   "execution_count": 26,
   "id": "aeb1b956",
   "metadata": {
    "execution": {
     "iopub.execute_input": "2025-06-25T12:08:31.031493Z",
     "iopub.status.busy": "2025-06-25T12:08:31.031102Z",
     "iopub.status.idle": "2025-06-25T12:08:31.072003Z",
     "shell.execute_reply": "2025-06-25T12:08:31.070873Z"
    },
    "papermill": {
     "duration": 0.058035,
     "end_time": "2025-06-25T12:08:31.073877",
     "exception": false,
     "start_time": "2025-06-25T12:08:31.015842",
     "status": "completed"
    },
    "tags": []
   },
   "outputs": [],
   "source": [
    "\"\"\"\n",
    "Verideki tüm Pclass değerlerini sırayla dolaşır.\n",
    "Her Pclass için farklı SibSp kombinasyonlarını da dolaşır.\n",
    "Her Pclass ve SibSp kombinasyonu için Age'in medyanını hesaplar.\n",
    "Age değeri eksik olan ve o Pclass + SibSp kombinasyonuna sahip satırları bulur. Yerine o kombinasyonun medyan değerini doldurur\n",
    "\"\"\"\n",
    "for pclass in full_data['Pclass'].unique():\n",
    "    for sibsp in full_data['SibSp'].unique():\n",
    "        median_age = full_data[(full_data['Pclass'] == pclass) & \n",
    "                               (full_data['SibSp'] == sibsp)]['Age'].median()\n",
    "\n",
    "        mask = (full_data['Age'].isnull()) & \\\n",
    "               (full_data['Pclass'] == pclass) & \\\n",
    "               (full_data['SibSp'] == sibsp)\n",
    "\n",
    "        full_data.loc[mask, 'Age'] = median_age\n"
   ]
  },
  {
   "cell_type": "code",
   "execution_count": 27,
   "id": "50ba6ca9",
   "metadata": {
    "execution": {
     "iopub.execute_input": "2025-06-25T12:08:31.108954Z",
     "iopub.status.busy": "2025-06-25T12:08:31.108628Z",
     "iopub.status.idle": "2025-06-25T12:08:31.118901Z",
     "shell.execute_reply": "2025-06-25T12:08:31.117785Z"
    },
    "papermill": {
     "duration": 0.032505,
     "end_time": "2025-06-25T12:08:31.120710",
     "exception": false,
     "start_time": "2025-06-25T12:08:31.088205",
     "status": "completed"
    },
    "tags": []
   },
   "outputs": [
    {
     "data": {
      "text/plain": [
       "PassengerId      0\n",
       "Survived       418\n",
       "Pclass           0\n",
       "Name             0\n",
       "Sex              0\n",
       "Age              0\n",
       "SibSp            0\n",
       "Parch            0\n",
       "Ticket           0\n",
       "Fare             0\n",
       "Embarked         0\n",
       "dtype: int64"
      ]
     },
     "execution_count": 27,
     "metadata": {},
     "output_type": "execute_result"
    }
   ],
   "source": [
    "full_data.isnull().sum()"
   ]
  },
  {
   "cell_type": "markdown",
   "id": "654124a3",
   "metadata": {
    "papermill": {
     "duration": 0.014322,
     "end_time": "2025-06-25T12:08:31.151122",
     "exception": false,
     "start_time": "2025-06-25T12:08:31.136800",
     "status": "completed"
    },
    "tags": []
   },
   "source": [
    "TÜM MİSSİNG VALUES DOLDURULDU"
   ]
  },
  {
   "cell_type": "markdown",
   "id": "83bc80c7",
   "metadata": {
    "papermill": {
     "duration": 0.016223,
     "end_time": "2025-06-25T12:08:31.181327",
     "exception": false,
     "start_time": "2025-06-25T12:08:31.165104",
     "status": "completed"
    },
    "tags": []
   },
   "source": [
    "SIRADA FEATURE ENGİNEERİNG VAR"
   ]
  },
  {
   "cell_type": "markdown",
   "id": "d9a8b1d4",
   "metadata": {
    "papermill": {
     "duration": 0.014392,
     "end_time": "2025-06-25T12:08:31.212415",
     "exception": false,
     "start_time": "2025-06-25T12:08:31.198023",
     "status": "completed"
    },
    "tags": []
   },
   "source": [
    "Kolon değerlerini (yani kategorik değişkenleri) sayısallaştırmamızın temel sebebi, çoğu makine öğrenimi algoritmasının yalnızca sayısal veriler üzerinde çalışabilmesidir."
   ]
  },
  {
   "cell_type": "code",
   "execution_count": 28,
   "id": "33c56b99",
   "metadata": {
    "execution": {
     "iopub.execute_input": "2025-06-25T12:08:31.242078Z",
     "iopub.status.busy": "2025-06-25T12:08:31.241782Z",
     "iopub.status.idle": "2025-06-25T12:08:31.251521Z",
     "shell.execute_reply": "2025-06-25T12:08:31.250655Z"
    },
    "papermill": {
     "duration": 0.027124,
     "end_time": "2025-06-25T12:08:31.253443",
     "exception": false,
     "start_time": "2025-06-25T12:08:31.226319",
     "status": "completed"
    },
    "tags": []
   },
   "outputs": [
    {
     "data": {
      "text/plain": [
       "Sex\n",
       "male      843\n",
       "female    464\n",
       "Name: count, dtype: int64"
      ]
     },
     "execution_count": 28,
     "metadata": {},
     "output_type": "execute_result"
    }
   ],
   "source": [
    "full_data['Sex'].value_counts()"
   ]
  },
  {
   "cell_type": "code",
   "execution_count": 29,
   "id": "e55742ea",
   "metadata": {
    "execution": {
     "iopub.execute_input": "2025-06-25T12:08:31.283630Z",
     "iopub.status.busy": "2025-06-25T12:08:31.283345Z",
     "iopub.status.idle": "2025-06-25T12:08:31.294184Z",
     "shell.execute_reply": "2025-06-25T12:08:31.293085Z"
    },
    "papermill": {
     "duration": 0.028161,
     "end_time": "2025-06-25T12:08:31.296091",
     "exception": false,
     "start_time": "2025-06-25T12:08:31.267930",
     "status": "completed"
    },
    "tags": []
   },
   "outputs": [],
   "source": [
    "full_data = pd.get_dummies(full_data, columns=['Embarked','Sex'])\n"
   ]
  },
  {
   "cell_type": "code",
   "execution_count": 30,
   "id": "8b77b0ce",
   "metadata": {
    "execution": {
     "iopub.execute_input": "2025-06-25T12:08:31.326970Z",
     "iopub.status.busy": "2025-06-25T12:08:31.326674Z",
     "iopub.status.idle": "2025-06-25T12:08:31.333944Z",
     "shell.execute_reply": "2025-06-25T12:08:31.332888Z"
    },
    "papermill": {
     "duration": 0.024761,
     "end_time": "2025-06-25T12:08:31.335592",
     "exception": false,
     "start_time": "2025-06-25T12:08:31.310831",
     "status": "completed"
    },
    "tags": []
   },
   "outputs": [],
   "source": [
    "#NAME COLONUNDAN TİTLE OLUŞTURDUK VE EKLEDİK\n",
    "\n",
    "nameslist = []\n",
    "for i in full_data[\"Name\"]:\n",
    "    nameslist.append(i.split(\".\")[0].split(\",\")[-1].strip()) #Spector, Mr. Woolf\t\n",
    "full_data[\"Title\"] = nameslist"
   ]
  },
  {
   "cell_type": "code",
   "execution_count": 31,
   "id": "6e91e657",
   "metadata": {
    "execution": {
     "iopub.execute_input": "2025-06-25T12:08:31.367073Z",
     "iopub.status.busy": "2025-06-25T12:08:31.366772Z",
     "iopub.status.idle": "2025-06-25T12:08:31.375007Z",
     "shell.execute_reply": "2025-06-25T12:08:31.374163Z"
    },
    "papermill": {
     "duration": 0.025833,
     "end_time": "2025-06-25T12:08:31.377065",
     "exception": false,
     "start_time": "2025-06-25T12:08:31.351232",
     "status": "completed"
    },
    "tags": []
   },
   "outputs": [
    {
     "data": {
      "text/plain": [
       "Title\n",
       "Mr              757\n",
       "Miss            259\n",
       "Mrs             196\n",
       "Master           61\n",
       "Rev               8\n",
       "Dr                8\n",
       "Col               4\n",
       "Mlle              2\n",
       "Major             2\n",
       "Ms                2\n",
       "Lady              1\n",
       "Sir               1\n",
       "Mme               1\n",
       "Don               1\n",
       "Capt              1\n",
       "the Countess      1\n",
       "Jonkheer          1\n",
       "Dona              1\n",
       "Name: count, dtype: int64"
      ]
     },
     "execution_count": 31,
     "metadata": {},
     "output_type": "execute_result"
    }
   ],
   "source": [
    "full_data.Title.value_counts()"
   ]
  },
  {
   "cell_type": "code",
   "execution_count": 32,
   "id": "33685fad",
   "metadata": {
    "execution": {
     "iopub.execute_input": "2025-06-25T12:08:31.408690Z",
     "iopub.status.busy": "2025-06-25T12:08:31.408366Z",
     "iopub.status.idle": "2025-06-25T12:08:31.418790Z",
     "shell.execute_reply": "2025-06-25T12:08:31.417324Z"
    },
    "papermill": {
     "duration": 0.028037,
     "end_time": "2025-06-25T12:08:31.420788",
     "exception": false,
     "start_time": "2025-06-25T12:08:31.392751",
     "status": "completed"
    },
    "tags": []
   },
   "outputs": [],
   "source": [
    "#title'ı kategorik hale getirelim\n",
    "#buradaki amaç nadir görülen unvanları gruplayarak modelin daha iyi genelleme yapmasını sağlamak\n",
    "full_data[\"Title\"]=full_data[\"Title\"].replace([\"Rev\",\"Dr\",\"Col\",\"Major\",\"Lady\",\"Sir\",\"Don\",\"Capt\",\"the Countess\",\n",
    "\"Jonkheer\",\"Dona\"],\"other\")"
   ]
  },
  {
   "cell_type": "code",
   "execution_count": 33,
   "id": "dea65840",
   "metadata": {
    "execution": {
     "iopub.execute_input": "2025-06-25T12:08:31.452908Z",
     "iopub.status.busy": "2025-06-25T12:08:31.452553Z",
     "iopub.status.idle": "2025-06-25T12:08:31.459679Z",
     "shell.execute_reply": "2025-06-25T12:08:31.458694Z"
    },
    "papermill": {
     "duration": 0.025649,
     "end_time": "2025-06-25T12:08:31.461624",
     "exception": false,
     "start_time": "2025-06-25T12:08:31.435975",
     "status": "completed"
    },
    "tags": []
   },
   "outputs": [],
   "source": [
    "#TİTLE ENCODE\n",
    "templist = []\n",
    "for i in full_data[\"Title\"]:\n",
    "    if i == \"Master\":\n",
    "        templist.append(0)\n",
    "    elif i in [\"Miss\", \"Mlle\", \"Ms\", \"Mrs\"]:\n",
    "        templist.append(1)\n",
    "    elif i == \"Mr\":\n",
    "        templist.append(2)\n",
    "    else:\n",
    "        templist.append(3)\n",
    "\n",
    "full_data[\"Title\"] = templist\n"
   ]
  },
  {
   "cell_type": "code",
   "execution_count": 34,
   "id": "79bea773",
   "metadata": {
    "execution": {
     "iopub.execute_input": "2025-06-25T12:08:31.492856Z",
     "iopub.status.busy": "2025-06-25T12:08:31.492449Z",
     "iopub.status.idle": "2025-06-25T12:08:31.502065Z",
     "shell.execute_reply": "2025-06-25T12:08:31.501007Z"
    },
    "papermill": {
     "duration": 0.026898,
     "end_time": "2025-06-25T12:08:31.503960",
     "exception": false,
     "start_time": "2025-06-25T12:08:31.477062",
     "status": "completed"
    },
    "tags": []
   },
   "outputs": [
    {
     "data": {
      "text/plain": [
       "Title\n",
       "2    757\n",
       "1    459\n",
       "0     61\n",
       "3     30\n",
       "Name: count, dtype: int64"
      ]
     },
     "execution_count": 34,
     "metadata": {},
     "output_type": "execute_result"
    }
   ],
   "source": [
    "full_data.Title.value_counts()"
   ]
  },
  {
   "cell_type": "code",
   "execution_count": 35,
   "id": "b02b473c",
   "metadata": {
    "execution": {
     "iopub.execute_input": "2025-06-25T12:08:31.537731Z",
     "iopub.status.busy": "2025-06-25T12:08:31.537384Z",
     "iopub.status.idle": "2025-06-25T12:08:31.552510Z",
     "shell.execute_reply": "2025-06-25T12:08:31.550937Z"
    },
    "papermill": {
     "duration": 0.034405,
     "end_time": "2025-06-25T12:08:31.554368",
     "exception": false,
     "start_time": "2025-06-25T12:08:31.519963",
     "status": "completed"
    },
    "tags": []
   },
   "outputs": [],
   "source": [
    "full_data = pd.get_dummies(full_data,columns=[\"Title\"])\n",
    "#Title değeri artık sayısal olduğu için modelin öğrenme algoritmaları (örneğin Random Forest, XGBoost) \n",
    "#bunu kullanabilecek."
   ]
  },
  {
   "cell_type": "markdown",
   "id": "bb832806",
   "metadata": {
    "papermill": {
     "duration": 0.014261,
     "end_time": "2025-06-25T12:08:31.584121",
     "exception": false,
     "start_time": "2025-06-25T12:08:31.569860",
     "status": "completed"
    },
    "tags": []
   },
   "source": [
    "# Age kategorizasyonu# "
   ]
  },
  {
   "cell_type": "code",
   "execution_count": 36,
   "id": "ed225088",
   "metadata": {
    "execution": {
     "iopub.execute_input": "2025-06-25T12:08:31.614555Z",
     "iopub.status.busy": "2025-06-25T12:08:31.614195Z",
     "iopub.status.idle": "2025-06-25T12:08:31.993417Z",
     "shell.execute_reply": "2025-06-25T12:08:31.992328Z"
    },
    "papermill": {
     "duration": 0.396413,
     "end_time": "2025-06-25T12:08:31.995024",
     "exception": false,
     "start_time": "2025-06-25T12:08:31.598611",
     "status": "completed"
    },
    "tags": []
   },
   "outputs": [
    {
     "data": {
      "image/png": "[encoded data removed]",
      "text/plain": [
       "<Figure size 1400x700 with 1 Axes>"
      ]
     },
     "metadata": {},
     "output_type": "display_data"
    }
   ],
   "source": [
    "# Grafiğin boyutunu ayarlayalım\n",
    "plt.figure(figsize=(14, 7))\n",
    "\n",
    "# Seaborn kütüphanesinin histplot fonksiyonunu kullanarak histogramı çizdirelim\n",
    "# kde=True parametresi, dağılımın genel şeklini gösteren bir yoğunluk çizgisi ekler.\n",
    "# bins=40 parametresi, yaş aralıklarının sayısını (çubuk sayısını) belirler. Bu sayıyı değiştirerek daha dar veya geniş aralıklar oluşturabilirsiniz.\n",
    "sns.histplot(data=full_data, x='Age', kde=True, bins=40, color='dodgerblue')\n",
    "\n",
    "# Grafiğe başlık ve eksen isimleri ekleyelim\n",
    "plt.title('Yolcu Yaş Dağılımı (Histogram)', fontsize=16)\n",
    "plt.xlabel('Yaş (Age)', fontsize=12)\n",
    "plt.ylabel('Kişi Sayısı (Frequency)', fontsize=12)\n",
    "\n",
    "# Grafiği gösterelim\n",
    "plt.show()\n"
   ]
  },
  {
   "cell_type": "code",
   "execution_count": 37,
   "id": "08fe8d85",
   "metadata": {
    "execution": {
     "iopub.execute_input": "2025-06-25T12:08:32.031028Z",
     "iopub.status.busy": "2025-06-25T12:08:32.030691Z",
     "iopub.status.idle": "2025-06-25T12:08:32.038371Z",
     "shell.execute_reply": "2025-06-25T12:08:32.036973Z"
    },
    "papermill": {
     "duration": 0.029121,
     "end_time": "2025-06-25T12:08:32.040402",
     "exception": false,
     "start_time": "2025-06-25T12:08:32.011281",
     "status": "completed"
    },
    "tags": []
   },
   "outputs": [
    {
     "data": {
      "text/plain": [
       "'# Age kategorizasyonu\\n# Yaş aralıklarını kendinize göre ayarlayabilirsiniz\\nbins_age = [0, 12, 18, 60, np.inf] # Çocuk, Genç, Yetişkin, Yaşlı\\nlabels_age = [\\'Child\\', \\'Teenager\\', \\'Adult\\', \\'Elderly\\']\\nfull_data[\\'AgeGroup\\'] = pd.cut(full_data[\\'Age\\'], bins=bins_age, labels=labels_age, right=False)\\n\\n# One-Hot Encode AgeGroup\\nfull_data = pd.get_dummies(full_data, columns=[\\'AgeGroup\\'], prefix=\\'Age\\')\\n\\n# Orijinal Age sütununu atma (kategorik versiyonu kullandığımız için)\\nfull_data = full_data.drop(\\'Age\\', axis=1)\\n\\n\\nprint(\"AgeGroup columns after one-hot encoding:\")\\nprint(full_data.filter(like=\\'Age_\\').head())'"
      ]
     },
     "execution_count": 37,
     "metadata": {},
     "output_type": "execute_result"
    }
   ],
   "source": [
    "\"\"\"# Age kategorizasyonu\n",
    "# Yaş aralıklarını kendinize göre ayarlayabilirsiniz\n",
    "bins_age = [0, 12, 18, 60, np.inf] # Çocuk, Genç, Yetişkin, Yaşlı\n",
    "labels_age = ['Child', 'Teenager', 'Adult', 'Elderly']\n",
    "full_data['AgeGroup'] = pd.cut(full_data['Age'], bins=bins_age, labels=labels_age, right=False)\n",
    "\n",
    "# One-Hot Encode AgeGroup\n",
    "full_data = pd.get_dummies(full_data, columns=['AgeGroup'], prefix='Age')\n",
    "\n",
    "# Orijinal Age sütununu atma (kategorik versiyonu kullandığımız için)\n",
    "full_data = full_data.drop('Age', axis=1)\n",
    "\n",
    "\n",
    "print(\"AgeGroup columns after one-hot encoding:\")\n",
    "print(full_data.filter(like='Age_').head())\"\"\""
   ]
  },
  {
   "cell_type": "markdown",
   "id": "4305a3ba",
   "metadata": {
    "papermill": {
     "duration": 0.019782,
     "end_time": "2025-06-25T12:08:32.080599",
     "exception": false,
     "start_time": "2025-06-25T12:08:32.060817",
     "status": "completed"
    },
    "tags": []
   },
   "source": [
    "#Fare Kategorizasyonu# "
   ]
  },
  {
   "cell_type": "code",
   "execution_count": 38,
   "id": "847757ca",
   "metadata": {
    "execution": {
     "iopub.execute_input": "2025-06-25T12:08:32.123405Z",
     "iopub.status.busy": "2025-06-25T12:08:32.123054Z",
     "iopub.status.idle": "2025-06-25T12:08:32.475548Z",
     "shell.execute_reply": "2025-06-25T12:08:32.474316Z"
    },
    "papermill": {
     "duration": 0.375081,
     "end_time": "2025-06-25T12:08:32.477239",
     "exception": false,
     "start_time": "2025-06-25T12:08:32.102158",
     "status": "completed"
    },
    "tags": []
   },
   "outputs": [
    {
     "data": {
      "image/png": "[encoded data removed]",
      "text/plain": [
       "<Figure size 1400x700 with 1 Axes>"
      ]
     },
     "metadata": {},
     "output_type": "display_data"
    }
   ],
   "source": [
    "# Grafiğin boyutunu ayarlayalım\n",
    "plt.figure(figsize=(14, 7))\n",
    "\n",
    "# Seaborn kütüphanesinin histplot fonksiyonunu kullanarak histogramı çizdirelim\n",
    "# kde=True parametresi, dağılımın genel şeklini gösteren bir yoğunluk çizgisi ekler.\n",
    "# bins=40 parametresi, yaş aralıklarının sayısını (çubuk sayısını) belirler. Bu sayıyı değiştirerek daha dar veya geniş aralıklar oluşturabilirsiniz.\n",
    "sns.histplot(data=full_data, x='Fare', kde=True, bins=40, color='dodgerblue')\n",
    "\n",
    "# Grafiğe başlık ve eksen isimleri ekleyelim\n",
    "plt.title('Yolcu Fare Dağılımı (Histogram)', fontsize=16)\n",
    "plt.xlabel('Fare (Fare)', fontsize=12)\n",
    "plt.ylabel('Kişi Sayısı (Frequency)', fontsize=12)\n",
    "\n",
    "# Grafiği gösterelim\n",
    "plt.show()\n"
   ]
  },
  {
   "cell_type": "code",
   "execution_count": 39,
   "id": "e4db0a89",
   "metadata": {
    "execution": {
     "iopub.execute_input": "2025-06-25T12:08:32.513942Z",
     "iopub.status.busy": "2025-06-25T12:08:32.513580Z",
     "iopub.status.idle": "2025-06-25T12:08:32.526568Z",
     "shell.execute_reply": "2025-06-25T12:08:32.524997Z"
    },
    "papermill": {
     "duration": 0.033942,
     "end_time": "2025-06-25T12:08:32.528603",
     "exception": false,
     "start_time": "2025-06-25T12:08:32.494661",
     "status": "completed"
    },
    "tags": []
   },
   "outputs": [
    {
     "data": {
      "text/plain": [
       "0.25     7.8958\n",
       "0.50    14.4542\n",
       "0.75    31.2750\n",
       "Name: Fare, dtype: float64"
      ]
     },
     "execution_count": 39,
     "metadata": {},
     "output_type": "execute_result"
    }
   ],
   "source": [
    "full_data['Fare'].quantile([0.25, 0.5, 0.75])"
   ]
  },
  {
   "cell_type": "code",
   "execution_count": 40,
   "id": "67eb38a1",
   "metadata": {
    "execution": {
     "iopub.execute_input": "2025-06-25T12:08:32.569784Z",
     "iopub.status.busy": "2025-06-25T12:08:32.569475Z",
     "iopub.status.idle": "2025-06-25T12:08:32.576895Z",
     "shell.execute_reply": "2025-06-25T12:08:32.575590Z"
    },
    "papermill": {
     "duration": 0.030169,
     "end_time": "2025-06-25T12:08:32.578932",
     "exception": false,
     "start_time": "2025-06-25T12:08:32.548763",
     "status": "completed"
    },
    "tags": []
   },
   "outputs": [
    {
     "data": {
      "text/plain": [
       "'# Fare kategorizasyonu\\n# Fiyat aralıklarını veri dağılımınıza göre ayarlayın\\n# Örneğin, çeyrekliklere bakarak aralıkları belirleyebilirsiniz: full_data[\\'Fare\\'].quantile([0.25, 0.5, 0.75])\\nbins_fare = [-0.001, 7.91, 14.5, 32.0, np.inf] # Örneğin, 4 çeyreklik aralığa göre\\nlabels_fare = [\\'Low\\', \\'MidLow\\', \\'MidHigh\\', \\'High\\']\\nfull_data[\\'FareGroup\\'] = pd.cut(full_data[\\'Fare\\'], bins=bins_fare, labels=labels_fare, right=True)\\n\\n# One-Hot Encode FareGroup\\nfull_data = pd.get_dummies(full_data, columns=[\\'FareGroup\\'], prefix=\\'Fare\\')\\n\\nprint(\"\\nFareGroup columns after one-hot encoding:\")\\nprint(full_data.filter(like=\\'Fare_\\').head())\\n\\n\\n# Orijinal Fare sütununu atma\\nfull_data = full_data.drop(\\'Fare\\', axis=1)'"
      ]
     },
     "execution_count": 40,
     "metadata": {},
     "output_type": "execute_result"
    }
   ],
   "source": [
    "\"\"\"# Fare kategorizasyonu\n",
    "# Fiyat aralıklarını veri dağılımınıza göre ayarlayın\n",
    "# Örneğin, çeyrekliklere bakarak aralıkları belirleyebilirsiniz: full_data['Fare'].quantile([0.25, 0.5, 0.75])\n",
    "bins_fare = [-0.001, 7.91, 14.5, 32.0, np.inf] # Örneğin, 4 çeyreklik aralığa göre\n",
    "labels_fare = ['Low', 'MidLow', 'MidHigh', 'High']\n",
    "full_data['FareGroup'] = pd.cut(full_data['Fare'], bins=bins_fare, labels=labels_fare, right=True)\n",
    "\n",
    "# One-Hot Encode FareGroup\n",
    "full_data = pd.get_dummies(full_data, columns=['FareGroup'], prefix='Fare')\n",
    "\n",
    "print(\"\\nFareGroup columns after one-hot encoding:\")\n",
    "print(full_data.filter(like='Fare_').head())\n",
    "\n",
    "\n",
    "# Orijinal Fare sütununu atma\n",
    "full_data = full_data.drop('Fare', axis=1)\"\"\""
   ]
  },
  {
   "cell_type": "code",
   "execution_count": 41,
   "id": "e53f5584",
   "metadata": {
    "execution": {
     "iopub.execute_input": "2025-06-25T12:08:32.618521Z",
     "iopub.status.busy": "2025-06-25T12:08:32.618171Z",
     "iopub.status.idle": "2025-06-25T12:08:32.628973Z",
     "shell.execute_reply": "2025-06-25T12:08:32.627971Z"
    },
    "papermill": {
     "duration": 0.033723,
     "end_time": "2025-06-25T12:08:32.630960",
     "exception": false,
     "start_time": "2025-06-25T12:08:32.597237",
     "status": "completed"
    },
    "tags": []
   },
   "outputs": [],
   "source": [
    "Q1 = full_data['Fare'].quantile(0.25)\n",
    "Q3 = full_data['Fare'].quantile(0.75)\n",
    "IQR = Q3 - Q1\n",
    "\n",
    "lower_bound = Q1 - 1.5 * IQR\n",
    "upper_bound = Q3 + 1.5 * IQR\n",
    "\n",
    "# Üst sınırdan büyük değerleri üst sınırla değiştir (clip)\n",
    "full_data['Fare'] = full_data['Fare'].clip(lower=lower_bound, upper=upper_bound)\n"
   ]
  },
  {
   "cell_type": "code",
   "execution_count": 42,
   "id": "fd530d82",
   "metadata": {
    "execution": {
     "iopub.execute_input": "2025-06-25T12:08:32.670069Z",
     "iopub.status.busy": "2025-06-25T12:08:32.669741Z",
     "iopub.status.idle": "2025-06-25T12:08:33.074982Z",
     "shell.execute_reply": "2025-06-25T12:08:33.073637Z"
    },
    "papermill": {
     "duration": 0.428158,
     "end_time": "2025-06-25T12:08:33.077180",
     "exception": false,
     "start_time": "2025-06-25T12:08:32.649022",
     "status": "completed"
    },
    "tags": []
   },
   "outputs": [
    {
     "data": {
      "image/png": "[encoded data removed]",
      "text/plain": [
       "<Figure size 1400x700 with 1 Axes>"
      ]
     },
     "metadata": {},
     "output_type": "display_data"
    }
   ],
   "source": [
    "# Grafiğin boyutunu ayarlayalım\n",
    "plt.figure(figsize=(14, 7))\n",
    "\n",
    "# Seaborn kütüphanesinin histplot fonksiyonunu kullanarak histogramı çizdirelim\n",
    "# kde=True parametresi, dağılımın genel şeklini gösteren bir yoğunluk çizgisi ekler.\n",
    "# bins=40 parametresi, yaş aralıklarının sayısını (çubuk sayısını) belirler. Bu sayıyı değiştirerek daha dar veya geniş aralıklar oluşturabilirsiniz.\n",
    "sns.histplot(data=full_data, x='Fare', kde=True, bins=40, color='dodgerblue')\n",
    "\n",
    "# Grafiğe başlık ve eksen isimleri ekleyelim\n",
    "plt.title('Yolcu Fare Dağılımı (Histogram)', fontsize=16)\n",
    "plt.xlabel('Fare (Fare)', fontsize=12)\n",
    "plt.ylabel('Kişi Sayısı (Frequency)', fontsize=12)\n",
    "\n",
    "# Grafiği gösterelim\n",
    "plt.show()\n"
   ]
  },
  {
   "cell_type": "code",
   "execution_count": 43,
   "id": "d7f195e8",
   "metadata": {
    "execution": {
     "iopub.execute_input": "2025-06-25T12:08:33.118083Z",
     "iopub.status.busy": "2025-06-25T12:08:33.117736Z",
     "iopub.status.idle": "2025-06-25T12:08:33.123338Z",
     "shell.execute_reply": "2025-06-25T12:08:33.122337Z"
    },
    "papermill": {
     "duration": 0.028585,
     "end_time": "2025-06-25T12:08:33.124961",
     "exception": false,
     "start_time": "2025-06-25T12:08:33.096376",
     "status": "completed"
    },
    "tags": []
   },
   "outputs": [],
   "source": [
    "full_data[\"FamilySize\"]=full_data[\"SibSp\"] + full_data[\"Parch\"] + 1\n"
   ]
  },
  {
   "cell_type": "code",
   "execution_count": 44,
   "id": "90024194",
   "metadata": {
    "execution": {
     "iopub.execute_input": "2025-06-25T12:08:33.163391Z",
     "iopub.status.busy": "2025-06-25T12:08:33.163043Z",
     "iopub.status.idle": "2025-06-25T12:08:33.168680Z",
     "shell.execute_reply": "2025-06-25T12:08:33.167811Z"
    },
    "papermill": {
     "duration": 0.027059,
     "end_time": "2025-06-25T12:08:33.170245",
     "exception": false,
     "start_time": "2025-06-25T12:08:33.143186",
     "status": "completed"
    },
    "tags": []
   },
   "outputs": [],
   "source": [
    "full_data[\"IsAlone\"] = (full_data[\"FamilySize\"] == 1)"
   ]
  },
  {
   "cell_type": "code",
   "execution_count": 45,
   "id": "63d347cf",
   "metadata": {
    "execution": {
     "iopub.execute_input": "2025-06-25T12:08:33.206701Z",
     "iopub.status.busy": "2025-06-25T12:08:33.206373Z",
     "iopub.status.idle": "2025-06-25T12:08:33.212302Z",
     "shell.execute_reply": "2025-06-25T12:08:33.211312Z"
    },
    "papermill": {
     "duration": 0.025973,
     "end_time": "2025-06-25T12:08:33.213870",
     "exception": false,
     "start_time": "2025-06-25T12:08:33.187897",
     "status": "completed"
    },
    "tags": []
   },
   "outputs": [
    {
     "data": {
      "text/plain": [
       "\"bins_family = [0, 1, 4, 7, np.inf] # 0-1 (yalnız), 2-4 (küçük), 5-7 (orta), 8+ (büyük)\\nlabels_family = ['Alone', 'Small', 'Medium', 'Large'] # FamilySize için yeni kategoriler\\nfull_data['FamilyGroup'] = pd.cut(full_data['FamilySize'], bins=bins_family, labels=labels_family, right=False)\\n\\n# One-Hot Encode FamilyGroup\\nfull_data = pd.get_dummies(full_data, columns=['FamilyGroup'], prefix='FamCat')\\n\\n\""
      ]
     },
     "execution_count": 45,
     "metadata": {},
     "output_type": "execute_result"
    }
   ],
   "source": [
    "\"\"\"bins_family = [0, 1, 4, 7, np.inf] # 0-1 (yalnız), 2-4 (küçük), 5-7 (orta), 8+ (büyük)\n",
    "labels_family = ['Alone', 'Small', 'Medium', 'Large'] # FamilySize için yeni kategoriler\n",
    "full_data['FamilyGroup'] = pd.cut(full_data['FamilySize'], bins=bins_family, labels=labels_family, right=False)\n",
    "\n",
    "# One-Hot Encode FamilyGroup\n",
    "full_data = pd.get_dummies(full_data, columns=['FamilyGroup'], prefix='FamCat')\n",
    "\n",
    "\"\"\""
   ]
  },
  {
   "cell_type": "code",
   "execution_count": 46,
   "id": "f6e6626b",
   "metadata": {
    "execution": {
     "iopub.execute_input": "2025-06-25T12:08:33.250735Z",
     "iopub.status.busy": "2025-06-25T12:08:33.250413Z",
     "iopub.status.idle": "2025-06-25T12:08:33.256172Z",
     "shell.execute_reply": "2025-06-25T12:08:33.255219Z"
    },
    "papermill": {
     "duration": 0.026373,
     "end_time": "2025-06-25T12:08:33.258056",
     "exception": false,
     "start_time": "2025-06-25T12:08:33.231683",
     "status": "completed"
    },
    "tags": []
   },
   "outputs": [],
   "source": [
    "full_data[\"FamilySize\"] = [0 if i < 5 else 1 for i in full_data[\"FamilySize\"]]"
   ]
  },
  {
   "cell_type": "code",
   "execution_count": 47,
   "id": "c2f2cb56",
   "metadata": {
    "execution": {
     "iopub.execute_input": "2025-06-25T12:08:33.295145Z",
     "iopub.status.busy": "2025-06-25T12:08:33.294792Z",
     "iopub.status.idle": "2025-06-25T12:08:33.300941Z",
     "shell.execute_reply": "2025-06-25T12:08:33.299872Z"
    },
    "papermill": {
     "duration": 0.026367,
     "end_time": "2025-06-25T12:08:33.302831",
     "exception": false,
     "start_time": "2025-06-25T12:08:33.276464",
     "status": "completed"
    },
    "tags": []
   },
   "outputs": [],
   "source": [
    "\"\"\"full_data = full_data.drop(['FamilySize', 'SibSp', 'Parch'], axis=1)\"\"\"\n",
    "full_data = full_data.drop(['SibSp', 'Parch'], axis=1)"
   ]
  },
  {
   "cell_type": "code",
   "execution_count": 48,
   "id": "a6315c47",
   "metadata": {
    "execution": {
     "iopub.execute_input": "2025-06-25T12:08:33.341949Z",
     "iopub.status.busy": "2025-06-25T12:08:33.341596Z",
     "iopub.status.idle": "2025-06-25T12:08:33.353583Z",
     "shell.execute_reply": "2025-06-25T12:08:33.352451Z"
    },
    "papermill": {
     "duration": 0.035122,
     "end_time": "2025-06-25T12:08:33.355722",
     "exception": false,
     "start_time": "2025-06-25T12:08:33.320600",
     "status": "completed"
    },
    "tags": []
   },
   "outputs": [],
   "source": [
    "#pclass'ı one hot encode edelim\n",
    "full_data = pd.get_dummies(full_data, columns=['Pclass'])"
   ]
  },
  {
   "cell_type": "code",
   "execution_count": 49,
   "id": "6502ccab",
   "metadata": {
    "execution": {
     "iopub.execute_input": "2025-06-25T12:08:33.395935Z",
     "iopub.status.busy": "2025-06-25T12:08:33.395146Z",
     "iopub.status.idle": "2025-06-25T12:08:33.401558Z",
     "shell.execute_reply": "2025-06-25T12:08:33.400407Z"
    },
    "papermill": {
     "duration": 0.028506,
     "end_time": "2025-06-25T12:08:33.403677",
     "exception": false,
     "start_time": "2025-06-25T12:08:33.375171",
     "status": "completed"
    },
    "tags": []
   },
   "outputs": [],
   "source": [
    "passid = full_data[full_data['Survived'].isnull()][\"PassengerId\"].astype(int)\n"
   ]
  },
  {
   "cell_type": "code",
   "execution_count": 50,
   "id": "5089ad11",
   "metadata": {
    "execution": {
     "iopub.execute_input": "2025-06-25T12:08:33.445187Z",
     "iopub.status.busy": "2025-06-25T12:08:33.444164Z",
     "iopub.status.idle": "2025-06-25T12:08:33.450698Z",
     "shell.execute_reply": "2025-06-25T12:08:33.449830Z"
    },
    "papermill": {
     "duration": 0.027923,
     "end_time": "2025-06-25T12:08:33.453109",
     "exception": false,
     "start_time": "2025-06-25T12:08:33.425186",
     "status": "completed"
    },
    "tags": []
   },
   "outputs": [],
   "source": [
    "full_data=full_data.drop(columns=[\"PassengerId\",\"Name\",\"Ticket\"],axis=1)"
   ]
  },
  {
   "cell_type": "code",
   "execution_count": 51,
   "id": "504f2e4d",
   "metadata": {
    "execution": {
     "iopub.execute_input": "2025-06-25T12:08:33.489736Z",
     "iopub.status.busy": "2025-06-25T12:08:33.489433Z",
     "iopub.status.idle": "2025-06-25T12:08:33.497561Z",
     "shell.execute_reply": "2025-06-25T12:08:33.496608Z"
    },
    "papermill": {
     "duration": 0.029091,
     "end_time": "2025-06-25T12:08:33.499754",
     "exception": false,
     "start_time": "2025-06-25T12:08:33.470663",
     "status": "completed"
    },
    "tags": []
   },
   "outputs": [
    {
     "data": {
      "text/plain": [
       "Survived      float64\n",
       "Age           float64\n",
       "Fare          float64\n",
       "Embarked_C       bool\n",
       "Embarked_Q       bool\n",
       "Embarked_S       bool\n",
       "Sex_female       bool\n",
       "Sex_male         bool\n",
       "Title_0          bool\n",
       "Title_1          bool\n",
       "Title_2          bool\n",
       "Title_3          bool\n",
       "FamilySize      int64\n",
       "IsAlone          bool\n",
       "Pclass_1         bool\n",
       "Pclass_2         bool\n",
       "Pclass_3         bool\n",
       "dtype: object"
      ]
     },
     "execution_count": 51,
     "metadata": {},
     "output_type": "execute_result"
    }
   ],
   "source": [
    "#full_data splitten önceki son hali\n",
    "full_data.dtypes"
   ]
  },
  {
   "cell_type": "code",
   "execution_count": 52,
   "id": "173ce850",
   "metadata": {
    "execution": {
     "iopub.execute_input": "2025-06-25T12:08:33.539392Z",
     "iopub.status.busy": "2025-06-25T12:08:33.539057Z",
     "iopub.status.idle": "2025-06-25T12:08:33.561813Z",
     "shell.execute_reply": "2025-06-25T12:08:33.560767Z"
    },
    "papermill": {
     "duration": 0.04424,
     "end_time": "2025-06-25T12:08:33.563950",
     "exception": false,
     "start_time": "2025-06-25T12:08:33.519710",
     "status": "completed"
    },
    "tags": []
   },
   "outputs": [
    {
     "data": {
      "text/html": [
       "<div>\n",
       "<style scoped>\n",
       "    .dataframe tbody tr th:only-of-type {\n",
       "        vertical-align: middle;\n",
       "    }\n",
       "\n",
       "    .dataframe tbody tr th {\n",
       "        vertical-align: top;\n",
       "    }\n",
       "\n",
       "    .dataframe thead th {\n",
       "        text-align: right;\n",
       "    }\n",
       "</style>\n",
       "<table border=\"1\" class=\"dataframe\">\n",
       "  <thead>\n",
       "    <tr style=\"text-align: right;\">\n",
       "      <th></th>\n",
       "      <th>Survived</th>\n",
       "      <th>Age</th>\n",
       "      <th>Fare</th>\n",
       "      <th>Embarked_C</th>\n",
       "      <th>Embarked_Q</th>\n",
       "      <th>Embarked_S</th>\n",
       "      <th>Sex_female</th>\n",
       "      <th>Sex_male</th>\n",
       "      <th>Title_0</th>\n",
       "      <th>Title_1</th>\n",
       "      <th>Title_2</th>\n",
       "      <th>Title_3</th>\n",
       "      <th>FamilySize</th>\n",
       "      <th>IsAlone</th>\n",
       "      <th>Pclass_1</th>\n",
       "      <th>Pclass_2</th>\n",
       "      <th>Pclass_3</th>\n",
       "    </tr>\n",
       "  </thead>\n",
       "  <tbody>\n",
       "    <tr>\n",
       "      <th>0</th>\n",
       "      <td>0.0</td>\n",
       "      <td>22.0</td>\n",
       "      <td>7.2500</td>\n",
       "      <td>False</td>\n",
       "      <td>False</td>\n",
       "      <td>True</td>\n",
       "      <td>False</td>\n",
       "      <td>True</td>\n",
       "      <td>False</td>\n",
       "      <td>False</td>\n",
       "      <td>True</td>\n",
       "      <td>False</td>\n",
       "      <td>0</td>\n",
       "      <td>False</td>\n",
       "      <td>False</td>\n",
       "      <td>False</td>\n",
       "      <td>True</td>\n",
       "    </tr>\n",
       "    <tr>\n",
       "      <th>1</th>\n",
       "      <td>1.0</td>\n",
       "      <td>38.0</td>\n",
       "      <td>66.3438</td>\n",
       "      <td>True</td>\n",
       "      <td>False</td>\n",
       "      <td>False</td>\n",
       "      <td>True</td>\n",
       "      <td>False</td>\n",
       "      <td>False</td>\n",
       "      <td>True</td>\n",
       "      <td>False</td>\n",
       "      <td>False</td>\n",
       "      <td>0</td>\n",
       "      <td>False</td>\n",
       "      <td>True</td>\n",
       "      <td>False</td>\n",
       "      <td>False</td>\n",
       "    </tr>\n",
       "    <tr>\n",
       "      <th>2</th>\n",
       "      <td>1.0</td>\n",
       "      <td>26.0</td>\n",
       "      <td>7.9250</td>\n",
       "      <td>False</td>\n",
       "      <td>False</td>\n",
       "      <td>True</td>\n",
       "      <td>True</td>\n",
       "      <td>False</td>\n",
       "      <td>False</td>\n",
       "      <td>True</td>\n",
       "      <td>False</td>\n",
       "      <td>False</td>\n",
       "      <td>0</td>\n",
       "      <td>True</td>\n",
       "      <td>False</td>\n",
       "      <td>False</td>\n",
       "      <td>True</td>\n",
       "    </tr>\n",
       "    <tr>\n",
       "      <th>3</th>\n",
       "      <td>1.0</td>\n",
       "      <td>35.0</td>\n",
       "      <td>53.1000</td>\n",
       "      <td>False</td>\n",
       "      <td>False</td>\n",
       "      <td>True</td>\n",
       "      <td>True</td>\n",
       "      <td>False</td>\n",
       "      <td>False</td>\n",
       "      <td>True</td>\n",
       "      <td>False</td>\n",
       "      <td>False</td>\n",
       "      <td>0</td>\n",
       "      <td>False</td>\n",
       "      <td>True</td>\n",
       "      <td>False</td>\n",
       "      <td>False</td>\n",
       "    </tr>\n",
       "    <tr>\n",
       "      <th>4</th>\n",
       "      <td>0.0</td>\n",
       "      <td>35.0</td>\n",
       "      <td>8.0500</td>\n",
       "      <td>False</td>\n",
       "      <td>False</td>\n",
       "      <td>True</td>\n",
       "      <td>False</td>\n",
       "      <td>True</td>\n",
       "      <td>False</td>\n",
       "      <td>False</td>\n",
       "      <td>True</td>\n",
       "      <td>False</td>\n",
       "      <td>0</td>\n",
       "      <td>True</td>\n",
       "      <td>False</td>\n",
       "      <td>False</td>\n",
       "      <td>True</td>\n",
       "    </tr>\n",
       "    <tr>\n",
       "      <th>...</th>\n",
       "      <td>...</td>\n",
       "      <td>...</td>\n",
       "      <td>...</td>\n",
       "      <td>...</td>\n",
       "      <td>...</td>\n",
       "      <td>...</td>\n",
       "      <td>...</td>\n",
       "      <td>...</td>\n",
       "      <td>...</td>\n",
       "      <td>...</td>\n",
       "      <td>...</td>\n",
       "      <td>...</td>\n",
       "      <td>...</td>\n",
       "      <td>...</td>\n",
       "      <td>...</td>\n",
       "      <td>...</td>\n",
       "      <td>...</td>\n",
       "    </tr>\n",
       "    <tr>\n",
       "      <th>1304</th>\n",
       "      <td>NaN</td>\n",
       "      <td>25.0</td>\n",
       "      <td>8.0500</td>\n",
       "      <td>False</td>\n",
       "      <td>False</td>\n",
       "      <td>True</td>\n",
       "      <td>False</td>\n",
       "      <td>True</td>\n",
       "      <td>False</td>\n",
       "      <td>False</td>\n",
       "      <td>True</td>\n",
       "      <td>False</td>\n",
       "      <td>0</td>\n",
       "      <td>True</td>\n",
       "      <td>False</td>\n",
       "      <td>False</td>\n",
       "      <td>True</td>\n",
       "    </tr>\n",
       "    <tr>\n",
       "      <th>1305</th>\n",
       "      <td>NaN</td>\n",
       "      <td>39.0</td>\n",
       "      <td>66.3438</td>\n",
       "      <td>True</td>\n",
       "      <td>False</td>\n",
       "      <td>False</td>\n",
       "      <td>True</td>\n",
       "      <td>False</td>\n",
       "      <td>False</td>\n",
       "      <td>False</td>\n",
       "      <td>False</td>\n",
       "      <td>True</td>\n",
       "      <td>0</td>\n",
       "      <td>True</td>\n",
       "      <td>True</td>\n",
       "      <td>False</td>\n",
       "      <td>False</td>\n",
       "    </tr>\n",
       "    <tr>\n",
       "      <th>1306</th>\n",
       "      <td>NaN</td>\n",
       "      <td>38.5</td>\n",
       "      <td>7.2500</td>\n",
       "      <td>False</td>\n",
       "      <td>False</td>\n",
       "      <td>True</td>\n",
       "      <td>False</td>\n",
       "      <td>True</td>\n",
       "      <td>False</td>\n",
       "      <td>False</td>\n",
       "      <td>True</td>\n",
       "      <td>False</td>\n",
       "      <td>0</td>\n",
       "      <td>True</td>\n",
       "      <td>False</td>\n",
       "      <td>False</td>\n",
       "      <td>True</td>\n",
       "    </tr>\n",
       "    <tr>\n",
       "      <th>1307</th>\n",
       "      <td>NaN</td>\n",
       "      <td>25.0</td>\n",
       "      <td>8.0500</td>\n",
       "      <td>False</td>\n",
       "      <td>False</td>\n",
       "      <td>True</td>\n",
       "      <td>False</td>\n",
       "      <td>True</td>\n",
       "      <td>False</td>\n",
       "      <td>False</td>\n",
       "      <td>True</td>\n",
       "      <td>False</td>\n",
       "      <td>0</td>\n",
       "      <td>True</td>\n",
       "      <td>False</td>\n",
       "      <td>False</td>\n",
       "      <td>True</td>\n",
       "    </tr>\n",
       "    <tr>\n",
       "      <th>1308</th>\n",
       "      <td>NaN</td>\n",
       "      <td>24.0</td>\n",
       "      <td>22.3583</td>\n",
       "      <td>True</td>\n",
       "      <td>False</td>\n",
       "      <td>False</td>\n",
       "      <td>False</td>\n",
       "      <td>True</td>\n",
       "      <td>True</td>\n",
       "      <td>False</td>\n",
       "      <td>False</td>\n",
       "      <td>False</td>\n",
       "      <td>0</td>\n",
       "      <td>False</td>\n",
       "      <td>False</td>\n",
       "      <td>False</td>\n",
       "      <td>True</td>\n",
       "    </tr>\n",
       "  </tbody>\n",
       "</table>\n",
       "<p>1307 rows × 17 columns</p>\n",
       "</div>"
      ],
      "text/plain": [
       "      Survived   Age     Fare  Embarked_C  Embarked_Q  Embarked_S  Sex_female  \\\n",
       "0          0.0  22.0   7.2500       False       False        True       False   \n",
       "1          1.0  38.0  66.3438        True       False       False        True   \n",
       "2          1.0  26.0   7.9250       False       False        True        True   \n",
       "3          1.0  35.0  53.1000       False       False        True        True   \n",
       "4          0.0  35.0   8.0500       False       False        True       False   \n",
       "...        ...   ...      ...         ...         ...         ...         ...   \n",
       "1304       NaN  25.0   8.0500       False       False        True       False   \n",
       "1305       NaN  39.0  66.3438        True       False       False        True   \n",
       "1306       NaN  38.5   7.2500       False       False        True       False   \n",
       "1307       NaN  25.0   8.0500       False       False        True       False   \n",
       "1308       NaN  24.0  22.3583        True       False       False       False   \n",
       "\n",
       "      Sex_male  Title_0  Title_1  Title_2  Title_3  FamilySize  IsAlone  \\\n",
       "0         True    False    False     True    False           0    False   \n",
       "1        False    False     True    False    False           0    False   \n",
       "2        False    False     True    False    False           0     True   \n",
       "3        False    False     True    False    False           0    False   \n",
       "4         True    False    False     True    False           0     True   \n",
       "...        ...      ...      ...      ...      ...         ...      ...   \n",
       "1304      True    False    False     True    False           0     True   \n",
       "1305     False    False    False    False     True           0     True   \n",
       "1306      True    False    False     True    False           0     True   \n",
       "1307      True    False    False     True    False           0     True   \n",
       "1308      True     True    False    False    False           0    False   \n",
       "\n",
       "      Pclass_1  Pclass_2  Pclass_3  \n",
       "0        False     False      True  \n",
       "1         True     False     False  \n",
       "2        False     False      True  \n",
       "3         True     False     False  \n",
       "4        False     False      True  \n",
       "...        ...       ...       ...  \n",
       "1304     False     False      True  \n",
       "1305      True     False     False  \n",
       "1306     False     False      True  \n",
       "1307     False     False      True  \n",
       "1308     False     False      True  \n",
       "\n",
       "[1307 rows x 17 columns]"
      ]
     },
     "execution_count": 52,
     "metadata": {},
     "output_type": "execute_result"
    }
   ],
   "source": [
    "full_data"
   ]
  },
  {
   "cell_type": "code",
   "execution_count": 53,
   "id": "848cb2d8",
   "metadata": {
    "execution": {
     "iopub.execute_input": "2025-06-25T12:08:33.602196Z",
     "iopub.status.busy": "2025-06-25T12:08:33.601888Z",
     "iopub.status.idle": "2025-06-25T12:08:33.610990Z",
     "shell.execute_reply": "2025-06-25T12:08:33.609953Z"
    },
    "papermill": {
     "duration": 0.030103,
     "end_time": "2025-06-25T12:08:33.612892",
     "exception": false,
     "start_time": "2025-06-25T12:08:33.582789",
     "status": "completed"
    },
    "tags": []
   },
   "outputs": [],
   "source": [
    "newtest=full_data[full_data[\"Survived\"].isnull()]\n",
    "\n",
    "newtest = newtest.drop(columns=[\"Survived\"])\n",
    "\n",
    "newtrain=full_data[full_data[\"Survived\"].notnull()]\n"
   ]
  },
  {
   "cell_type": "markdown",
   "id": "241afc64",
   "metadata": {
    "papermill": {
     "duration": 0.017946,
     "end_time": "2025-06-25T12:08:33.650973",
     "exception": false,
     "start_time": "2025-06-25T12:08:33.633027",
     "status": "completed"
    },
    "tags": []
   },
   "source": [
    "MODEL GELİŞTİRME AŞAMASI"
   ]
  },
  {
   "cell_type": "code",
   "execution_count": 54,
   "id": "499d4100",
   "metadata": {
    "execution": {
     "iopub.execute_input": "2025-06-25T12:08:33.689341Z",
     "iopub.status.busy": "2025-06-25T12:08:33.688975Z",
     "iopub.status.idle": "2025-06-25T12:08:42.215128Z",
     "shell.execute_reply": "2025-06-25T12:08:42.213193Z"
    },
    "papermill": {
     "duration": 8.549077,
     "end_time": "2025-06-25T12:08:42.218375",
     "exception": false,
     "start_time": "2025-06-25T12:08:33.669298",
     "status": "completed"
    },
    "tags": []
   },
   "outputs": [],
   "source": [
    "from sklearn.model_selection import train_test_split, StratifiedKFold, GridSearchCV,cross_val_score\n",
    "from sklearn.linear_model import LogisticRegression\n",
    "from sklearn.preprocessing import  StandardScaler\n",
    "from sklearn.svm import SVC\n",
    "from sklearn.ensemble import RandomForestClassifier, VotingClassifier\n",
    "from sklearn.neighbors import KNeighborsClassifier\n",
    "from sklearn.tree import DecisionTreeClassifier\n",
    "from sklearn.metrics import accuracy_score\n",
    "import xgboost as xgb\n",
    "import lightgbm as lgb"
   ]
  },
  {
   "cell_type": "code",
   "execution_count": 55,
   "id": "04303e85",
   "metadata": {
    "execution": {
     "iopub.execute_input": "2025-06-25T12:08:42.277347Z",
     "iopub.status.busy": "2025-06-25T12:08:42.275888Z",
     "iopub.status.idle": "2025-06-25T12:08:42.282361Z",
     "shell.execute_reply": "2025-06-25T12:08:42.280433Z"
    },
    "papermill": {
     "duration": 0.038279,
     "end_time": "2025-06-25T12:08:42.284032",
     "exception": false,
     "start_time": "2025-06-25T12:08:42.245753",
     "status": "completed"
    },
    "tags": []
   },
   "outputs": [],
   "source": [
    "kf = StratifiedKFold(n_splits=5, shuffle=True, random_state=42)\n",
    "scores= {}\n",
    "preds={}"
   ]
  },
  {
   "cell_type": "code",
   "execution_count": 56,
   "id": "33f1ae87",
   "metadata": {
    "execution": {
     "iopub.execute_input": "2025-06-25T12:08:42.330699Z",
     "iopub.status.busy": "2025-06-25T12:08:42.330300Z",
     "iopub.status.idle": "2025-06-25T12:08:42.339425Z",
     "shell.execute_reply": "2025-06-25T12:08:42.337962Z"
    },
    "papermill": {
     "duration": 0.03553,
     "end_time": "2025-06-25T12:08:42.341455",
     "exception": false,
     "start_time": "2025-06-25T12:08:42.305925",
     "status": "completed"
    },
    "tags": []
   },
   "outputs": [],
   "source": [
    "\n",
    "X_train = newtrain.drop(columns=[\"Survived\"],axis=1)\n",
    "y_train = newtrain[\"Survived\"]\n",
    "X_test=newtest\n"
   ]
  },
  {
   "cell_type": "code",
   "execution_count": 57,
   "id": "bf6270ad",
   "metadata": {
    "execution": {
     "iopub.execute_input": "2025-06-25T12:08:42.386811Z",
     "iopub.status.busy": "2025-06-25T12:08:42.386412Z",
     "iopub.status.idle": "2025-06-25T12:08:42.392445Z",
     "shell.execute_reply": "2025-06-25T12:08:42.391065Z"
    },
    "papermill": {
     "duration": 0.032459,
     "end_time": "2025-06-25T12:08:42.395537",
     "exception": false,
     "start_time": "2025-06-25T12:08:42.363078",
     "status": "completed"
    },
    "tags": []
   },
   "outputs": [],
   "source": [
    "from sklearn.preprocessing import StandardScaler\n"
   ]
  },
  {
   "cell_type": "markdown",
   "id": "eb27260b",
   "metadata": {
    "papermill": {
     "duration": 0.019186,
     "end_time": "2025-06-25T12:08:42.442695",
     "exception": false,
     "start_time": "2025-06-25T12:08:42.423509",
     "status": "completed"
    },
    "tags": []
   },
   "source": [
    "GridSearchCV, bir modelin en iyi performans gösteren hiperparametre kombinasyonunu, belirlediğiniz bir aralıkta sistematik olarak arayan ve bunu Çapraz Doğrulama (Cross-Validation) ile test ederek bulan bir tekniktir."
   ]
  },
  {
   "cell_type": "code",
   "execution_count": 58,
   "id": "15c1842c",
   "metadata": {
    "execution": {
     "iopub.execute_input": "2025-06-25T12:08:42.490737Z",
     "iopub.status.busy": "2025-06-25T12:08:42.490432Z",
     "iopub.status.idle": "2025-06-25T12:08:42.500768Z",
     "shell.execute_reply": "2025-06-25T12:08:42.498008Z"
    },
    "papermill": {
     "duration": 0.04,
     "end_time": "2025-06-25T12:08:42.503380",
     "exception": false,
     "start_time": "2025-06-25T12:08:42.463380",
     "status": "completed"
    },
    "tags": []
   },
   "outputs": [
    {
     "data": {
      "text/plain": [
       "'# 1. Logistic Regression\\nprint(\"\\n--- Optimize Ediliyor: Logistic Regression ---\")\\nlogreg_param_grid = {\\n    \\'C\\': [ 5, 10, 20,50,100],\\n    \\'solver\\': [\\'liblinear\\'], # liblinear hem l1 hem l2 destekler, küçük verisetleri için iyidir.\\n    \\'penalty\\': [\\'l1\\', \\'l2\\']\\n}\\nlogreg_grid = GridSearchCV(estimator = LogisticRegression(max_iter=100, random_state=42), \\n                           param_grid = logreg_param_grid, \\n                           cv=kf, \\n                           scoring=\\'accuracy\\', \\n                           n_jobs=-1, \\n                           verbose=1)\\n\\nlogreg_grid.fit(X_train, y_train)\\n\\nprint(f\"Logistic Regression için En İyi Parametreler: {logreg_grid.best_params_}\")\\nprint(f\"Logistic Regression için En İyi Çapraz Doğrulama Skoru: {logreg_grid.best_score_:.4f}\")\\n\\nscores[logreg_grid.best_score_] = \"LogisticRegression\"\\npreds[\"LogisticRegression\"] = logreg_grid.best_estimator_.predict(X_test)\\n'"
      ]
     },
     "execution_count": 58,
     "metadata": {},
     "output_type": "execute_result"
    }
   ],
   "source": [
    "\"\"\"# 1. Logistic Regression\n",
    "print(\"\\n--- Optimize Ediliyor: Logistic Regression ---\")\n",
    "logreg_param_grid = {\n",
    "    'C': [ 5, 10, 20,50,100],\n",
    "    'solver': ['liblinear'], # liblinear hem l1 hem l2 destekler, küçük verisetleri için iyidir.\n",
    "    'penalty': ['l1', 'l2']\n",
    "}\n",
    "logreg_grid = GridSearchCV(estimator = LogisticRegression(max_iter=100, random_state=42), \n",
    "                           param_grid = logreg_param_grid, \n",
    "                           cv=kf, \n",
    "                           scoring='accuracy', \n",
    "                           n_jobs=-1, \n",
    "                           verbose=1)\n",
    "\n",
    "logreg_grid.fit(X_train, y_train)\n",
    "\n",
    "print(f\"Logistic Regression için En İyi Parametreler: {logreg_grid.best_params_}\")\n",
    "print(f\"Logistic Regression için En İyi Çapraz Doğrulama Skoru: {logreg_grid.best_score_:.4f}\")\n",
    "\n",
    "scores[logreg_grid.best_score_] = \"LogisticRegression\"\n",
    "preds[\"LogisticRegression\"] = logreg_grid.best_estimator_.predict(X_test)\n",
    "\"\"\""
   ]
  },
  {
   "cell_type": "code",
   "execution_count": 59,
   "id": "d8c0edaa",
   "metadata": {
    "execution": {
     "iopub.execute_input": "2025-06-25T12:08:42.550199Z",
     "iopub.status.busy": "2025-06-25T12:08:42.549874Z",
     "iopub.status.idle": "2025-06-25T12:08:45.734680Z",
     "shell.execute_reply": "2025-06-25T12:08:45.733545Z"
    },
    "papermill": {
     "duration": 3.210926,
     "end_time": "2025-06-25T12:08:45.737492",
     "exception": false,
     "start_time": "2025-06-25T12:08:42.526566",
     "status": "completed"
    },
    "tags": []
   },
   "outputs": [
    {
     "name": "stdout",
     "output_type": "stream",
     "text": [
      "\n",
      "--- Optimize Ediliyor: Logistic Regression  ---\n",
      "Fitting 5 folds for each of 18 candidates, totalling 90 fits\n",
      "Logistic Regression için En İyi Parametreler: {'C': 5, 'penalty': 'l1', 'solver': 'liblinear'}\n",
      "Logistic Regression için En İyi Çapraz Doğrulama Skoru: 0.8324\n"
     ]
    }
   ],
   "source": [
    "from sklearn.pipeline import Pipeline\n",
    "from sklearn.preprocessing import StandardScaler\n",
    "from sklearn.linear_model import LogisticRegression\n",
    "from sklearn.model_selection import GridSearchCV\n",
    "\n",
    "print(\"\\n--- Optimize Ediliyor: Logistic Regression  ---\")\n",
    "\n",
    "\n",
    "# Parametre grid'i (clf__ ile başlar çünkü pipeline içindeki LogisticRegression'ın adı \"clf\")\n",
    "logreg_param_grid = {\n",
    "    'C': [0.001, 0.01, 0.1, 1, 5, 10, 20, 50, 100], # Daha geniş C aralığı\n",
    "    'solver': ['liblinear'],\n",
    "    'penalty': ['l1', 'l2']\n",
    "}\n",
    "\n",
    "# GridSearchCV\n",
    "logreg_grid = GridSearchCV(\n",
    "    estimator=LogisticRegression(max_iter=100, random_state=42), # Estimator artık pipeline nesnesi\n",
    "    param_grid=logreg_param_grid,\n",
    "    cv=kf,\n",
    "    scoring='accuracy',\n",
    "    n_jobs=-1,\n",
    "    verbose=1\n",
    ")\n",
    "\n",
    "# Eğitimi ham X_train ile yap. Pipeline içindeki scaler, veriyi otomatik olarak ölçekleyecektir.\n",
    "logreg_grid.fit(X_train, y_train)\n",
    "\n",
    "# Sonuçlar\n",
    "print(f\"Logistic Regression için En İyi Parametreler: {logreg_grid.best_params_}\")\n",
    "print(f\"Logistic Regression için En İyi Çapraz Doğrulama Skoru: {logreg_grid.best_score_:.4f}\")\n",
    "\n",
    "\n",
    "# VotingClassifier için hazır hale getir\n",
    "scores[logreg_grid.best_score_] = \"LogisticRegression\"\n",
    "preds[\"LogisticRegression\"] = logreg_grid.best_estimator_.predict(X_test)\n"
   ]
  },
  {
   "cell_type": "code",
   "execution_count": 60,
   "id": "2a5a88cf",
   "metadata": {
    "execution": {
     "iopub.execute_input": "2025-06-25T12:08:45.779716Z",
     "iopub.status.busy": "2025-06-25T12:08:45.779177Z",
     "iopub.status.idle": "2025-06-25T12:09:25.957529Z",
     "shell.execute_reply": "2025-06-25T12:09:25.956410Z"
    },
    "papermill": {
     "duration": 40.218933,
     "end_time": "2025-06-25T12:09:25.977719",
     "exception": false,
     "start_time": "2025-06-25T12:08:45.758786",
     "status": "completed"
    },
    "tags": []
   },
   "outputs": [
    {
     "name": "stdout",
     "output_type": "stream",
     "text": [
      "\n",
      "--- Optimize Ediliyor: Random Forest ---\n",
      "Fitting 5 folds for each of 36 candidates, totalling 180 fits\n",
      "Random Forest için En İyi Parametreler: {'max_depth': 8, 'min_samples_leaf': 2, 'min_samples_split': 5, 'n_estimators': 250}\n",
      "Random Forest için En İyi Çapraz Doğrulama Skoru: 0.8313\n"
     ]
    }
   ],
   "source": [
    "# 2. Random Forest\n",
    "print(\"\\n--- Optimize Ediliyor: Random Forest ---\")\n",
    "rf_param_grid = {\n",
    "    'n_estimators': [220,250, 300], # Ağaç sayısı\n",
    "    'max_depth': [6, 8],  # Ağacın maksimum derinliği (None: sınırsız)\n",
    "    'min_samples_split': [2, 5, 10], # Bir düğümü bölmek için gereken minimum örnek sayısı\n",
    "    'min_samples_leaf': [ 2, 3]   # Yaprak düğümde olması gereken minimum örnek sayısı\n",
    "}\n",
    "rf_grid = GridSearchCV(RandomForestClassifier(random_state=42), \n",
    "                       rf_param_grid, \n",
    "                       cv=kf, #5\n",
    "                       scoring='accuracy', \n",
    "                       n_jobs=-1, #tüm çekirdekleri kullan\n",
    "                       verbose=1) #verilen bilgi\n",
    "rf_grid.fit(X_train, y_train)\n",
    "\n",
    "print(f\"Random Forest için En İyi Parametreler: {rf_grid.best_params_}\")\n",
    "print(f\"Random Forest için En İyi Çapraz Doğrulama Skoru: {rf_grid.best_score_:.4f}\")\n",
    "\n",
    "scores[rf_grid.best_score_] = \"RandomForestClassifier\"\n",
    "preds[\"RandomForestClassifier\"] = rf_grid.best_estimator_.predict(X_test)\n"
   ]
  },
  {
   "cell_type": "code",
   "execution_count": 61,
   "id": "48560130",
   "metadata": {
    "execution": {
     "iopub.execute_input": "2025-06-25T12:09:26.017221Z",
     "iopub.status.busy": "2025-06-25T12:09:26.016920Z",
     "iopub.status.idle": "2025-06-25T12:09:26.458915Z",
     "shell.execute_reply": "2025-06-25T12:09:26.458074Z"
    },
    "papermill": {
     "duration": 0.46597,
     "end_time": "2025-06-25T12:09:26.461832",
     "exception": false,
     "start_time": "2025-06-25T12:09:25.995862",
     "status": "completed"
    },
    "tags": []
   },
   "outputs": [
    {
     "name": "stdout",
     "output_type": "stream",
     "text": [
      "\n",
      "--- Optimize Ediliyor: XGBoost ---\n",
      "Fitting 5 folds for each of 4 candidates, totalling 20 fits\n",
      "XGBoost için En İyi Parametreler: {'colsample_bytree': 0.8, 'gamma': 1, 'learning_rate': 0.03, 'max_depth': 6, 'n_estimators': 27, 'subsample': 0.8}\n",
      "XGBoost için En İyi Çapraz Doğrulama Skoru: 0.8403\n"
     ]
    }
   ],
   "source": [
    "# 4. XGBoost Classifier Taslak\n",
    "\n",
    "print(\"\\n--- Optimize Ediliyor: XGBoost ---\")\n",
    "xgb_param_grid = {\n",
    "    'n_estimators': [27],# Toplam ağaç sayısı\n",
    "    'learning_rate': [0.03],# Her adımda öğrenme oranı\n",
    "    'max_depth': [6],# Ağaçların maksimum derinliği\n",
    "    'subsample': [0.8, 1.0], # Eğitimde kullanılacak örnek oranı\n",
    "    'colsample_bytree': [0.8, 1.0], # Her ağaçta kullanılacak sütun oranı\n",
    "    'gamma': [1] # Yaprak oluşturmak için gerekli minimum iyileşme\n",
    "}\n",
    "xgb_grid = GridSearchCV(xgb.XGBClassifier(objective='binary:logistic', \n",
    "                                          random_state=42, \n",
    "                                          use_label_encoder=False, \n",
    "                                          eval_metric='logloss'), \n",
    "                        xgb_param_grid, \n",
    "                        cv=kf, \n",
    "                        scoring='accuracy', \n",
    "                        n_jobs=-1, \n",
    "                        verbose=1)\n",
    "\n",
    "xgb_grid.fit(X_train, y_train)\n",
    "\n",
    "print(f\"XGBoost için En İyi Parametreler: {xgb_grid.best_params_}\")\n",
    "print(f\"XGBoost için En İyi Çapraz Doğrulama Skoru: {xgb_grid.best_score_:.4f}\")\n",
    "\n",
    "scores[xgb_grid.best_score_] = \"XGBoostClassifier\"\n",
    "preds[\"XGBoostClassifier\"] = xgb_grid.best_estimator_.predict(X_test)\n",
    "\n",
    "\n",
    "\n",
    "\n"
   ]
  },
  {
   "cell_type": "code",
   "execution_count": 62,
   "id": "ad4660f0",
   "metadata": {
    "execution": {
     "iopub.execute_input": "2025-06-25T12:09:26.504842Z",
     "iopub.status.busy": "2025-06-25T12:09:26.504474Z",
     "iopub.status.idle": "2025-06-25T12:09:28.617852Z",
     "shell.execute_reply": "2025-06-25T12:09:28.616800Z"
    },
    "papermill": {
     "duration": 2.13759,
     "end_time": "2025-06-25T12:09:28.619727",
     "exception": false,
     "start_time": "2025-06-25T12:09:26.482137",
     "status": "completed"
    },
    "tags": []
   },
   "outputs": [
    {
     "name": "stdout",
     "output_type": "stream",
     "text": [
      "VotingClassifier Test Seti Doğruluk Oranı: 0.8245\n"
     ]
    }
   ],
   "source": [
    "from sklearn.ensemble import VotingClassifier\n",
    "from sklearn.metrics import accuracy_score\n",
    "from sklearn.model_selection import cross_val_score\n",
    "\n",
    "best_logreg_model = logreg_grid.best_estimator_\n",
    "best_rf_model = rf_grid.best_estimator_\n",
    "best_xgb_model = xgb_grid.best_estimator_\n",
    "\n",
    "\n",
    "\n",
    "estimators = [\n",
    "    ('logreg', best_logreg_model),\n",
    "    ('rf', best_rf_model),\n",
    "    ('xgb', best_xgb_model),\n",
    "\n",
    "]\n",
    "\n",
    "eclf = VotingClassifier(\n",
    "    estimators=estimators,\n",
    "    voting='soft',\n",
    "    n_jobs=-1\n",
    ")\n",
    "\n",
    "cv_scores = cross_val_score(eclf, X_train, y_train, cv=kf, scoring='accuracy', n_jobs=-1)\n",
    "ensemble_accuracy = cv_scores.mean()\n",
    "\n",
    "eclf.fit(X_train, y_train)\n",
    "\n",
    "print(f\"VotingClassifier Test Seti Doğruluk Oranı: {ensemble_accuracy:.4f}\")\n",
    "\n",
    "# İsteğe bağlı: VotingClassifier'ı scores ve preds sözlüklerine ekleyebilirsiniz\n",
    "scores[ensemble_accuracy] = \"VotingClassifier_Ensemble\"\n",
    "preds[\"VotingClassifier_Ensemble\"] = eclf.predict(X_test)"
   ]
  },
  {
   "cell_type": "code",
   "execution_count": 63,
   "id": "4715ebaa",
   "metadata": {
    "execution": {
     "iopub.execute_input": "2025-06-25T12:09:28.660176Z",
     "iopub.status.busy": "2025-06-25T12:09:28.659861Z",
     "iopub.status.idle": "2025-06-25T12:09:28.666335Z",
     "shell.execute_reply": "2025-06-25T12:09:28.664952Z"
    },
    "papermill": {
     "duration": 0.028648,
     "end_time": "2025-06-25T12:09:28.668047",
     "exception": false,
     "start_time": "2025-06-25T12:09:28.639399",
     "status": "completed"
    },
    "tags": []
   },
   "outputs": [
    {
     "name": "stdout",
     "output_type": "stream",
     "text": [
      "******************************************\n",
      "\n",
      "scores are : {0.8324192217355424: 'LogisticRegression', 0.83126388624389: 'RandomForestClassifier', 0.8402780422776613: 'XGBoostClassifier', 0.8245477051990097: 'VotingClassifier_Ensemble'}\n",
      "\n",
      "most accurate model is XGBoostClassifier with accuracy : 0.8402780422776613\n",
      "\n",
      "******************************************\n"
     ]
    }
   ],
   "source": [
    "most_acc = max(scores.keys())\n",
    "bestmodel=scores[most_acc]\n",
    "print(\"******************************************\")\n",
    "print()\n",
    "print(f\"scores are : {scores}\")\n",
    "print()\n",
    "print(f\"most accurate model is {bestmodel} with accuracy : {most_acc}\")\n",
    "print()\n",
    "print(\"******************************************\")\n",
    "final_preds = preds[bestmodel]\n"
   ]
  },
  {
   "cell_type": "code",
   "execution_count": 64,
   "id": "0c02b33b",
   "metadata": {
    "execution": {
     "iopub.execute_input": "2025-06-25T12:09:28.708449Z",
     "iopub.status.busy": "2025-06-25T12:09:28.708114Z",
     "iopub.status.idle": "2025-06-25T12:09:28.756497Z",
     "shell.execute_reply": "2025-06-25T12:09:28.755624Z"
    },
    "papermill": {
     "duration": 0.071007,
     "end_time": "2025-06-25T12:09:28.757941",
     "exception": false,
     "start_time": "2025-06-25T12:09:28.686934",
     "status": "completed"
    },
    "tags": []
   },
   "outputs": [
    {
     "data": {
      "text/html": [
       "<div>\n",
       "<style scoped>\n",
       "    .dataframe tbody tr th:only-of-type {\n",
       "        vertical-align: middle;\n",
       "    }\n",
       "\n",
       "    .dataframe tbody tr th {\n",
       "        vertical-align: top;\n",
       "    }\n",
       "\n",
       "    .dataframe thead th {\n",
       "        text-align: right;\n",
       "    }\n",
       "</style>\n",
       "<table border=\"1\" class=\"dataframe\">\n",
       "  <thead>\n",
       "    <tr style=\"text-align: right;\">\n",
       "      <th></th>\n",
       "      <th>PassengerId</th>\n",
       "      <th>Survived</th>\n",
       "    </tr>\n",
       "  </thead>\n",
       "  <tbody>\n",
       "    <tr>\n",
       "      <th>891</th>\n",
       "      <td>892</td>\n",
       "      <td>0</td>\n",
       "    </tr>\n",
       "    <tr>\n",
       "      <th>892</th>\n",
       "      <td>893</td>\n",
       "      <td>0</td>\n",
       "    </tr>\n",
       "    <tr>\n",
       "      <th>893</th>\n",
       "      <td>894</td>\n",
       "      <td>0</td>\n",
       "    </tr>\n",
       "    <tr>\n",
       "      <th>894</th>\n",
       "      <td>895</td>\n",
       "      <td>0</td>\n",
       "    </tr>\n",
       "    <tr>\n",
       "      <th>895</th>\n",
       "      <td>896</td>\n",
       "      <td>1</td>\n",
       "    </tr>\n",
       "    <tr>\n",
       "      <th>...</th>\n",
       "      <td>...</td>\n",
       "      <td>...</td>\n",
       "    </tr>\n",
       "    <tr>\n",
       "      <th>1304</th>\n",
       "      <td>1305</td>\n",
       "      <td>0</td>\n",
       "    </tr>\n",
       "    <tr>\n",
       "      <th>1305</th>\n",
       "      <td>1306</td>\n",
       "      <td>1</td>\n",
       "    </tr>\n",
       "    <tr>\n",
       "      <th>1306</th>\n",
       "      <td>1307</td>\n",
       "      <td>0</td>\n",
       "    </tr>\n",
       "    <tr>\n",
       "      <th>1307</th>\n",
       "      <td>1308</td>\n",
       "      <td>0</td>\n",
       "    </tr>\n",
       "    <tr>\n",
       "      <th>1308</th>\n",
       "      <td>1309</td>\n",
       "      <td>1</td>\n",
       "    </tr>\n",
       "  </tbody>\n",
       "</table>\n",
       "<p>418 rows × 2 columns</p>\n",
       "</div>"
      ],
      "text/plain": [
       "      PassengerId  Survived\n",
       "891           892         0\n",
       "892           893         0\n",
       "893           894         0\n",
       "894           895         0\n",
       "895           896         1\n",
       "...           ...       ...\n",
       "1304         1305         0\n",
       "1305         1306         1\n",
       "1306         1307         0\n",
       "1307         1308         0\n",
       "1308         1309         1\n",
       "\n",
       "[418 rows x 2 columns]"
      ]
     },
     "execution_count": 64,
     "metadata": {},
     "output_type": "execute_result"
    }
   ],
   "source": [
    "final_df = pd.DataFrame(\n",
    "    {\n",
    "        \"PassengerId\" : passid ,\n",
    "        \"Survived\" : eclf.predict(X_test).astype(int) #final_preds.astype(int)\n",
    "        \n",
    "    }\n",
    ")\n",
    "final_df.to_csv('submission.csv', index=False)\n",
    "final_df"
   ]
  },
  {
   "cell_type": "code",
   "execution_count": null,
   "id": "a675dbea",
   "metadata": {
    "papermill": {
     "duration": 0.018956,
     "end_time": "2025-06-25T12:09:28.795723",
     "exception": false,
     "start_time": "2025-06-25T12:09:28.776767",
     "status": "completed"
    },
    "tags": []
   },
   "outputs": [],
   "source": []
  },
  {
   "cell_type": "code",
   "execution_count": null,
   "id": "94cea472",
   "metadata": {
    "papermill": {
     "duration": 0.019735,
     "end_time": "2025-06-25T12:09:28.833821",
     "exception": false,
     "start_time": "2025-06-25T12:09:28.814086",
     "status": "completed"
    },
    "tags": []
   },
   "outputs": [],
   "source": []
  }
 ],
 "metadata": {
  "kaggle": {
   "accelerator": "none",
   "dataSources": [
    {
     "databundleVersionId": 26502,
     "sourceId": 3136,
     "sourceType": "competition"
    }
   ],
   "dockerImageVersionId": 31040,
   "isGpuEnabled": false,
   "isInternetEnabled": true,
   "language": "python",
   "sourceType": "notebook"
  },
  "kernelspec": {
   "display_name": "Python 3",
   "language": "python",
   "name": "python3"
  },
  "language_info": {
   "codemirror_mode": {
    "name": "ipython",
    "version": 3
   },
   "file_extension": ".py",
   "mimetype": "text/x-python",
   "name": "python",
   "nbconvert_exporter": "python",
   "pygments_lexer": "ipython3",
   "version": "3.11.11"
  },
  "papermill": {
   "default_parameters": {},
   "duration": 71.930292,
   "end_time": "2025-06-25T12:09:31.474449",
   "environment_variables": {},
   "exception": null,
   "input_path": "__notebook__.ipynb",
   "output_path": "__notebook__.ipynb",
   "parameters": {},
   "start_time": "2025-06-25T12:08:19.544157",
   "version": "2.6.0"
  }
 },
 "nbformat": 4,
 "nbformat_minor": 5
}
